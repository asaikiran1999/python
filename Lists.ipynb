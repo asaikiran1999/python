{
  "nbformat": 4,
  "nbformat_minor": 0,
  "metadata": {
    "colab": {
      "name": "Lists.ipynb",
      "provenance": [],
      "authorship_tag": "ABX9TyMBUrI1XXVYc9axlNOoA5jM",
      "include_colab_link": true
    },
    "kernelspec": {
      "name": "python3",
      "display_name": "Python 3"
    },
    "language_info": {
      "name": "python"
    }
  },
  "cells": [
    {
      "cell_type": "markdown",
      "metadata": {
        "id": "view-in-github",
        "colab_type": "text"
      },
      "source": [
        "<a href=\"https://colab.research.google.com/github/asaikiran1999/python/blob/main/Lists.ipynb\" target=\"_parent\"><img src=\"https://colab.research.google.com/assets/colab-badge.svg\" alt=\"Open In Colab\"/></a>"
      ]
    },
    {
      "cell_type": "markdown",
      "source": [
        "**LIST**"
      ],
      "metadata": {
        "id": "D0-glN1H5dNc"
      }
    },
    {
      "cell_type": "markdown",
      "source": [
        "1.accessing elements in list"
      ],
      "metadata": {
        "id": "Har3R3Nk53MI"
      }
    },
    {
      "cell_type": "code",
      "execution_count": null,
      "metadata": {
        "colab": {
          "base_uri": "https://localhost:8080/"
        },
        "id": "ZtIElXxn5bEJ",
        "outputId": "a89c009f-0c0c-45e2-e8c9-f10e15a65cdb"
      },
      "outputs": [
        {
          "output_type": "stream",
          "name": "stdout",
          "text": [
            "the second elemenet in the list is  kiran\n",
            "the last element in the list is  raju\n"
          ]
        }
      ],
      "source": [
        "l = ['sai','kiran','sandeep','ram','raju']\n",
        "print(\"the second elemenet in the list is \",l[1])\n",
        "print(\"the last element in the list is \",l[-1])"
      ]
    },
    {
      "cell_type": "markdown",
      "source": [
        "2.adding an element to a list."
      ],
      "metadata": {
        "id": "avBYmM0G6AYz"
      }
    },
    {
      "cell_type": "code",
      "source": [
        "l.append('dinesh')\n",
        "print(l)"
      ],
      "metadata": {
        "colab": {
          "base_uri": "https://localhost:8080/"
        },
        "id": "tePJV_6t62UD",
        "outputId": "4fd4314b-25b8-4069-b682-6634a74abc25"
      },
      "execution_count": null,
      "outputs": [
        {
          "output_type": "stream",
          "name": "stdout",
          "text": [
            "['sai', 'kiran', 'sandeep', 'ram', 'raju', 'dinesh']\n"
          ]
        }
      ]
    },
    {
      "cell_type": "markdown",
      "source": [
        "2.1.inserting elements into list"
      ],
      "metadata": {
        "id": "UxH8_14f7Ah4"
      }
    },
    {
      "cell_type": "code",
      "source": [
        "l.insert(1,'vinay')\n",
        "print(l)"
      ],
      "metadata": {
        "colab": {
          "base_uri": "https://localhost:8080/"
        },
        "id": "wEsrJz876-Uu",
        "outputId": "48ac5ba2-5eb5-4abd-e124-200a701b1ece"
      },
      "execution_count": null,
      "outputs": [
        {
          "output_type": "stream",
          "name": "stdout",
          "text": [
            "['sai', 'vinay', 'kiran', 'sandeep', 'ram', 'raju', 'dinesh']\n"
          ]
        }
      ]
    },
    {
      "cell_type": "markdown",
      "source": [
        "3.sorting a list"
      ],
      "metadata": {
        "id": "VXgrENo-7YAE"
      }
    },
    {
      "cell_type": "code",
      "source": [
        "l.sort()\n",
        "print(\"the sorted list in accending order\",l)\n",
        "l.sort(reverse = True)\n",
        "print(\"the sorted list in desending order\",l)"
      ],
      "metadata": {
        "colab": {
          "base_uri": "https://localhost:8080/"
        },
        "id": "1rR08d7W7Ph3",
        "outputId": "c1051398-8225-41a5-93c9-931cd61957f7"
      },
      "execution_count": null,
      "outputs": [
        {
          "output_type": "stream",
          "name": "stdout",
          "text": [
            "the sorted list in accending order ['dinesh', 'kiran', 'raju', 'ram', 'sai', 'sandeep', 'vinay']\n",
            "the sorted list in desending order ['vinay', 'sandeep', 'sai', 'ram', 'raju', 'kiran', 'dinesh']\n"
          ]
        }
      ]
    },
    {
      "cell_type": "markdown",
      "source": [
        "3.1.reversing a list"
      ],
      "metadata": {
        "id": "YB09dMZg8Boy"
      }
    },
    {
      "cell_type": "code",
      "source": [
        "l.reverse()\n",
        "print(\"reversing the order of elements of string \",l)"
      ],
      "metadata": {
        "colab": {
          "base_uri": "https://localhost:8080/"
        },
        "id": "4mrxlOn17n0u",
        "outputId": "876d3fe3-07d9-4db0-8ce5-ce1d59173dfa"
      },
      "execution_count": null,
      "outputs": [
        {
          "output_type": "stream",
          "name": "stdout",
          "text": [
            "reversing the order of elements of string  ['dinesh', 'kiran', 'raju', 'ram', 'sai', 'sandeep', 'vinay']\n"
          ]
        }
      ]
    },
    {
      "cell_type": "markdown",
      "source": [
        "4.removing elements in the list\n"
      ],
      "metadata": {
        "id": "2htb8w7W8lKs"
      }
    },
    {
      "cell_type": "code",
      "source": [
        "del l[0]\n",
        "print(l)"
      ],
      "metadata": {
        "colab": {
          "base_uri": "https://localhost:8080/"
        },
        "id": "Qr3RDGC_8cW_",
        "outputId": "722ce41e-4a5f-4c09-ae0c-967044cd6d82"
      },
      "execution_count": null,
      "outputs": [
        {
          "output_type": "stream",
          "name": "stdout",
          "text": [
            "['raju', 'ram', 'sai', 'sandeep', 'vinay']\n"
          ]
        }
      ]
    },
    {
      "cell_type": "code",
      "source": [
        "pop = l.pop()\n",
        "print(pop)\n",
        "pop2 = l.pop(3)\n",
        "print(pop2) "
      ],
      "metadata": {
        "colab": {
          "base_uri": "https://localhost:8080/"
        },
        "id": "D4LgiwX68y0X",
        "outputId": "6db1c3df-c357-4f15-accc-0e4f3e5781a9"
      },
      "execution_count": null,
      "outputs": [
        {
          "output_type": "stream",
          "name": "stdout",
          "text": [
            "vinay\n",
            "sandeep\n"
          ]
        }
      ]
    },
    {
      "cell_type": "code",
      "source": [
        "l.remove('sai')\n"
      ],
      "metadata": {
        "colab": {
          "base_uri": "https://localhost:8080/",
          "height": 184
        },
        "id": "QW4sIf8-9wO9",
        "outputId": "c777dc09-7874-4c2f-e23f-30aba8723c05"
      },
      "execution_count": null,
      "outputs": [
        {
          "output_type": "error",
          "ename": "ValueError",
          "evalue": "ignored",
          "traceback": [
            "\u001b[0;31m---------------------------------------------------------------------------\u001b[0m",
            "\u001b[0;31mValueError\u001b[0m                                Traceback (most recent call last)",
            "\u001b[0;32m<ipython-input-19-14353b55fbc4>\u001b[0m in \u001b[0;36m<module>\u001b[0;34m()\u001b[0m\n\u001b[0;32m----> 1\u001b[0;31m \u001b[0ml\u001b[0m\u001b[0;34m.\u001b[0m\u001b[0mremove\u001b[0m\u001b[0;34m(\u001b[0m\u001b[0;34m'sai'\u001b[0m\u001b[0;34m)\u001b[0m\u001b[0;34m\u001b[0m\u001b[0;34m\u001b[0m\u001b[0m\n\u001b[0m\u001b[1;32m      2\u001b[0m \u001b[0mprint\u001b[0m\u001b[0;34m(\u001b[0m\u001b[0ml\u001b[0m\u001b[0;34m)\u001b[0m\u001b[0;34m\u001b[0m\u001b[0;34m\u001b[0m\u001b[0m\n",
            "\u001b[0;31mValueError\u001b[0m: list.remove(x): x not in list"
          ]
        }
      ]
    },
    {
      "cell_type": "code",
      "source": [
        "print(l)"
      ],
      "metadata": {
        "colab": {
          "base_uri": "https://localhost:8080/"
        },
        "id": "6NJhKl9t973E",
        "outputId": "6b3a6ce1-e81f-4b2e-a5b4-c49b68580565"
      },
      "execution_count": null,
      "outputs": [
        {
          "output_type": "stream",
          "name": "stdout",
          "text": [
            "['raju', 'ram']\n"
          ]
        }
      ]
    },
    {
      "cell_type": "markdown",
      "source": [
        "5.finding length of a list."
      ],
      "metadata": {
        "id": "d8rWhava-Nk5"
      }
    },
    {
      "cell_type": "code",
      "source": [
        "len(l)"
      ],
      "metadata": {
        "colab": {
          "base_uri": "https://localhost:8080/"
        },
        "id": "0mlzq-vQ-JLu",
        "outputId": "35e8e358-0c03-4cee-b0f8-5220d5b02dc3"
      },
      "execution_count": null,
      "outputs": [
        {
          "output_type": "execute_result",
          "data": {
            "text/plain": [
              "2"
            ]
          },
          "metadata": {},
          "execution_count": 21
        }
      ]
    },
    {
      "cell_type": "markdown",
      "source": [
        "6.for loop with list"
      ],
      "metadata": {
        "id": "yvO-R4Ug-YwP"
      }
    },
    {
      "cell_type": "code",
      "source": [
        "for i in l:\n",
        "  print(i*2)"
      ],
      "metadata": {
        "colab": {
          "base_uri": "https://localhost:8080/"
        },
        "id": "wAlxfiEn-Wek",
        "outputId": "07ddd79e-d95c-425b-92c2-e9dc0196fb72"
      },
      "execution_count": null,
      "outputs": [
        {
          "output_type": "stream",
          "name": "stdout",
          "text": [
            "rajuraju\n",
            "ramram\n"
          ]
        }
      ]
    },
    {
      "cell_type": "markdown",
      "source": [
        "7.converting range into list"
      ],
      "metadata": {
        "id": "pA6Mx1eY-oP1"
      }
    },
    {
      "cell_type": "code",
      "source": [
        "l = list(range(1,11))\n",
        "print(l)\n",
        "print(min(l))\n",
        "print(max(l))\n",
        "sum(l)"
      ],
      "metadata": {
        "colab": {
          "base_uri": "https://localhost:8080/"
        },
        "id": "_dwOKIuo-mHm",
        "outputId": "5b195d07-dbb1-4474-fe2a-dd8ab107a904"
      },
      "execution_count": null,
      "outputs": [
        {
          "output_type": "stream",
          "name": "stdout",
          "text": [
            "[1, 2, 3, 4, 5, 6, 7, 8, 9, 10]\n"
          ]
        },
        {
          "output_type": "execute_result",
          "data": {
            "text/plain": [
              "55"
            ]
          },
          "metadata": {},
          "execution_count": 26
        }
      ]
    },
    {
      "cell_type": "markdown",
      "source": [
        "8.lIST COMPREHENSION"
      ],
      "metadata": {
        "id": "X-o0ykCH_LwA"
      }
    },
    {
      "cell_type": "code",
      "source": [
        "squares = [value**2 for value in range(1,11)]\n",
        "print(squares)"
      ],
      "metadata": {
        "colab": {
          "base_uri": "https://localhost:8080/"
        },
        "id": "MPnXdA-j-2Qu",
        "outputId": "bb4f4e6f-1b42-49b1-e612-2b073c122cd5"
      },
      "execution_count": null,
      "outputs": [
        {
          "output_type": "stream",
          "name": "stdout",
          "text": [
            "[1, 4, 9, 16, 25, 36, 49, 64, 81, 100]\n"
          ]
        }
      ]
    },
    {
      "cell_type": "markdown",
      "source": [
        "9.slicing list\n",
        "\n",
        "start:stop:step"
      ],
      "metadata": {
        "id": "MZU55wyL_hn4"
      }
    },
    {
      "cell_type": "code",
      "source": [
        "print(l[1:3:2])"
      ],
      "metadata": {
        "colab": {
          "base_uri": "https://localhost:8080/"
        },
        "id": "jvckoI7F_fq9",
        "outputId": "32c8c848-9cf2-4411-c897-694bd3b94aa1"
      },
      "execution_count": null,
      "outputs": [
        {
          "output_type": "stream",
          "name": "stdout",
          "text": [
            "[2]\n"
          ]
        }
      ]
    },
    {
      "cell_type": "code",
      "source": [
        "print(l[1:3:-1])"
      ],
      "metadata": {
        "colab": {
          "base_uri": "https://localhost:8080/"
        },
        "id": "2GCIe0YW_sOM",
        "outputId": "dc2ddfd9-b311-4233-ad42-bf8007ba9a83"
      },
      "execution_count": null,
      "outputs": [
        {
          "output_type": "stream",
          "name": "stdout",
          "text": [
            "[]\n"
          ]
        }
      ]
    },
    {
      "cell_type": "code",
      "source": [
        ""
      ],
      "metadata": {
        "id": "jWkaXfin_1TB"
      },
      "execution_count": null,
      "outputs": []
    }
  ]
}