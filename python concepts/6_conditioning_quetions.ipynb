{
  "nbformat": 4,
  "nbformat_minor": 0,
  "metadata": {
    "colab": {
      "name": "6.conditioning_quetions.ipynb",
      "provenance": []
    },
    "kernelspec": {
      "name": "python3",
      "display_name": "Python 3"
    },
    "language_info": {
      "name": "python"
    }
  },
  "cells": [
    {
      "cell_type": "markdown",
      "source": [
        "**1.Check whether the given string is pallendrome or not.**"
      ],
      "metadata": {
        "id": "ZFz-terau6-f"
      }
    },
    {
      "cell_type": "markdown",
      "source": [
        "**2.Take name of the month as user input and print no of days in it.**"
      ],
      "metadata": {
        "id": "oFPqYQO-wQDP"
      }
    },
    {
      "cell_type": "markdown",
      "source": [
        "**3.Check whether the user input is less than 10 or not**\n",
        "\n",
        "**if it is less than 10, check if it is odd or even**\n",
        "\n",
        "**if it is odd print that number multiplied by 2**\n",
        "\n",
        "**if it is even print that number divided by 2**"
      ],
      "metadata": {
        "id": "ixpEp6zxzK-m"
      }
    },
    {
      "cell_type": "markdown",
      "source": [
        "#**[CLICK HERE](https://github.com/asaikiran1999/python/blob/main/python%20concepts/6_conditioning_answers.ipynb)** for solutions."
      ],
      "metadata": {
        "id": "9vTgqubH12YV"
      }
    },
    {
      "cell_type": "code",
      "source": [
        ""
      ],
      "metadata": {
        "id": "EaM2j6cc2AiO"
      },
      "execution_count": null,
      "outputs": []
    }
  ]
}