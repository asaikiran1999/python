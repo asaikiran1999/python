{
  "nbformat": 4,
  "nbformat_minor": 0,
  "metadata": {
    "colab": {
      "name": "operators.ipynb",
      "provenance": []
    },
    "kernelspec": {
      "name": "python3",
      "display_name": "Python 3"
    },
    "language_info": {
      "name": "python"
    }
  },
  "cells": [
    {
      "cell_type": "markdown",
      "source": [
        "#**OPERATORS IN PYTHON**\n",
        "**1.Arthemetic operator**\n",
        "\n",
        "**2.Logical operator**\n",
        "\n",
        "**3.Conditional operator**"
      ],
      "metadata": {
        "id": "ZdvwOqKLK-Sr"
      }
    },
    {
      "cell_type": "markdown",
      "source": [
        "#1.Arthemetic Operator\n",
        "It works mainly on numerical actions "
      ],
      "metadata": {
        "id": "56nfWnFXLr9S"
      }
    },
    {
      "cell_type": "markdown",
      "source": [
        "**1. add,subtract,multiply,divide,remainder**"
      ],
      "metadata": {
        "id": "-JW1cRDPMXPB"
      }
    },
    {
      "cell_type": "code",
      "execution_count": null,
      "metadata": {
        "colab": {
          "base_uri": "https://localhost:8080/"
        },
        "id": "3B-ZKQaRK81B",
        "outputId": "f8ac8bd3-109f-4f70-c706-09b5e4b9dec6"
      },
      "outputs": [
        {
          "output_type": "stream",
          "name": "stdout",
          "text": [
            "the  a + b is :  15\n",
            "the  a - b is :  11\n",
            "the  a * b is :  26\n",
            "the  a / b is :  6.5\n",
            "the  a // b is :  6\n",
            "the  a % b is :  1\n"
          ]
        }
      ],
      "source": [
        "a = 13\n",
        "b = 2\n",
        "print(\"the  a + b is : \", a+b)\n",
        "print(\"the  a - b is : \",a-b)\n",
        "print('the  a * b is : ',a*b)\n",
        "print('the  a / b is : ',a/b)\n",
        "print('the  a // b is : ',a//b)\n",
        "print('the  a % b is : ',a%b)"
      ]
    },
    {
      "cell_type": "markdown",
      "source": [
        "**2.adding strings**"
      ],
      "metadata": {
        "id": "Ru1esftYNrSw"
      }
    },
    {
      "cell_type": "code",
      "source": [
        "string1 = 'QUICK LEARN'\n",
        "string3 = 'Python '\n",
        "string2 = ' '\n",
        "string = string1+string2+string3\n",
        "print(string)"
      ],
      "metadata": {
        "colab": {
          "base_uri": "https://localhost:8080/"
        },
        "id": "W5-VsAHCNcOl",
        "outputId": "bbe28c29-732e-42d9-a855-892558787c27"
      },
      "execution_count": null,
      "outputs": [
        {
          "output_type": "stream",
          "name": "stdout",
          "text": [
            "QUICK LEARN Python \n"
          ]
        }
      ]
    },
    {
      "cell_type": "markdown",
      "source": [
        "**3.multiplling strings**"
      ],
      "metadata": {
        "id": "Hjue_m9mORRQ"
      }
    },
    {
      "cell_type": "code",
      "source": [
        "string = string*3\n",
        "print(string)"
      ],
      "metadata": {
        "colab": {
          "base_uri": "https://localhost:8080/"
        },
        "id": "BPztK0hzOOoU",
        "outputId": "a2e761a9-3646-4ef3-b265-b187f896a657"
      },
      "execution_count": null,
      "outputs": [
        {
          "output_type": "stream",
          "name": "stdout",
          "text": [
            "QUICK LEARN Python QUICK LEARN Python QUICK LEARN Python \n"
          ]
        }
      ]
    },
    {
      "cell_type": "markdown",
      "source": [
        "#2.Logical Operator\n",
        "Its a logic which checks where the values are evaluated."
      ],
      "metadata": {
        "id": "8UhyC1OzTTYN"
      }
    },
    {
      "cell_type": "markdown",
      "source": [
        "**1.Equal to operator**"
      ],
      "metadata": {
        "id": "L-nWii61T0_2"
      }
    },
    {
      "cell_type": "code",
      "source": [
        "a=2\n",
        "b=2\n",
        "print(a==b)\n",
        "b=3\n",
        "print(a==b)"
      ],
      "metadata": {
        "id": "Mqw35N7bOe2V",
        "colab": {
          "base_uri": "https://localhost:8080/"
        },
        "outputId": "38b26de3-4f33-4055-90a3-a0aaee674f65"
      },
      "execution_count": 10,
      "outputs": [
        {
          "output_type": "stream",
          "name": "stdout",
          "text": [
            "True\n",
            "False\n"
          ]
        }
      ]
    },
    {
      "cell_type": "markdown",
      "source": [
        "**2.not equal to operator**"
      ],
      "metadata": {
        "id": "xj3Z8ksYUfZZ"
      }
    },
    {
      "cell_type": "code",
      "source": [
        "a=2\n",
        "b=2\n",
        "print(a!=b)\n",
        "b=3\n",
        "print(a!=b)"
      ],
      "metadata": {
        "colab": {
          "base_uri": "https://localhost:8080/"
        },
        "id": "lBIR0w1PUnPR",
        "outputId": "b74f82a4-f51b-4ea6-860c-eb9455371f6b"
      },
      "execution_count": 12,
      "outputs": [
        {
          "output_type": "stream",
          "name": "stdout",
          "text": [
            "False\n",
            "True\n"
          ]
        }
      ]
    },
    {
      "cell_type": "markdown",
      "source": [
        "**3.greater than and less than**"
      ],
      "metadata": {
        "id": "67aPK7E4VAko"
      }
    },
    {
      "cell_type": "code",
      "source": [
        "a=2\n",
        "b=3\n",
        "print(a>b)\n",
        "print(a<b)"
      ],
      "metadata": {
        "colab": {
          "base_uri": "https://localhost:8080/"
        },
        "id": "-21VawDVU7bw",
        "outputId": "795ae0bd-b04b-4002-b4a8-5ef78a834964"
      },
      "execution_count": 13,
      "outputs": [
        {
          "output_type": "stream",
          "name": "stdout",
          "text": [
            "False\n",
            "True\n"
          ]
        }
      ]
    },
    {
      "cell_type": "markdown",
      "source": [
        "**4.greater than equal to and less than equal to**"
      ],
      "metadata": {
        "id": "JSD9jTBzVU0n"
      }
    },
    {
      "cell_type": "code",
      "source": [
        "a=2\n",
        "b=3\n",
        "print(a>=b)\n",
        "print(a<=b)\n",
        "b=2\n",
        "print(a>=b)\n",
        "print(a<=b)\n"
      ],
      "metadata": {
        "colab": {
          "base_uri": "https://localhost:8080/"
        },
        "id": "YSiZ7sUZVS_Q",
        "outputId": "a4a0bad9-2903-4ec3-ff40-92db9efc32bd"
      },
      "execution_count": 14,
      "outputs": [
        {
          "output_type": "stream",
          "name": "stdout",
          "text": [
            "False\n",
            "True\n",
            "True\n",
            "True\n"
          ]
        }
      ]
    },
    {
      "cell_type": "markdown",
      "source": [
        "#3.Conditional Operator \n",
        "checks interactions with bool values"
      ],
      "metadata": {
        "id": "0Esp3HJGV2kA"
      }
    },
    {
      "cell_type": "markdown",
      "source": [
        "**1.OR**"
      ],
      "metadata": {
        "id": "EHbOO5gOWJVy"
      }
    },
    {
      "cell_type": "code",
      "source": [
        "a=True \n",
        "b=False\n",
        "print(\"False OR False = \",b or b)\n",
        "print('------------------------------')\n",
        "print(\"True OR False = \",a or b)\n",
        "print(\"False OR True = \",b or a)\n",
        "print(\"True OR True = \",a or a)\n"
      ],
      "metadata": {
        "colab": {
          "base_uri": "https://localhost:8080/"
        },
        "id": "DjAhn701VvfQ",
        "outputId": "f0bc3c22-a237-4daf-bed2-fe077c5184d5"
      },
      "execution_count": 16,
      "outputs": [
        {
          "output_type": "stream",
          "name": "stdout",
          "text": [
            "False OR False =  False\n",
            "------------------------------\n",
            "True OR False =  True\n",
            "False OR True =  True\n",
            "True OR True =  True\n"
          ]
        }
      ]
    },
    {
      "cell_type": "markdown",
      "source": [
        "**2.AND**"
      ],
      "metadata": {
        "id": "H47X5zDdXBO6"
      }
    },
    {
      "cell_type": "code",
      "source": [
        "a=True \n",
        "b=False\n",
        "print(\"True AND True = \",a and a)\n",
        "print('------------------------------')\n",
        "print(\"True AND False = \",a and b)\n",
        "print(\"False AND True = \",b and a)\n",
        "print(\"False AND False = \",b and b)"
      ],
      "metadata": {
        "colab": {
          "base_uri": "https://localhost:8080/"
        },
        "id": "NW7gYMDpWiCR",
        "outputId": "7209018c-df89-4a37-9b06-902218af1365"
      },
      "execution_count": 18,
      "outputs": [
        {
          "output_type": "stream",
          "name": "stdout",
          "text": [
            "True AND True =  True\n",
            "------------------------------\n",
            "True AND False =  False\n",
            "False AND True =  False\n",
            "False AND False =  False\n"
          ]
        }
      ]
    },
    {
      "cell_type": "code",
      "source": [
        ""
      ],
      "metadata": {
        "id": "jVa2Bgm-XSJX"
      },
      "execution_count": null,
      "outputs": []
    }
  ]
}