{
  "nbformat": 4,
  "nbformat_minor": 0,
  "metadata": {
    "colab": {
      "name": "8.while_loop_answers.ipynb",
      "provenance": []
    },
    "kernelspec": {
      "name": "python3",
      "display_name": "Python 3"
    },
    "language_info": {
      "name": "python"
    }
  },
  "cells": [
    {
      "cell_type": "markdown",
      "source": [
        "**1.Run a infinite loop which checks a given string is pallendrome or not and stop the while loop when it is a pallendrome**"
      ],
      "metadata": {
        "id": "_7yNAsTgKM4n"
      }
    },
    {
      "cell_type": "markdown",
      "source": [
        "**2.print the factorial of a number using while loop**"
      ],
      "metadata": {
        "id": "JVfMyplaLmsD"
      }
    },
    {
      "cell_type": "markdown",
      "source": [
        "**3.consider a list of number and print numbers only which are even in it using while loop**"
      ],
      "metadata": {
        "id": "YP2VP4s1OZv1"
      }
    },
    {
      "cell_type": "markdown",
      "source": [
        "#**[CLICK HERE](https://github.com/asaikiran1999/python/blob/main/python%20concepts/8_while_loop_answers.ipynb)** for solutions"
      ],
      "metadata": {
        "id": "jhho3KOiSTcm"
      }
    }
  ]
}