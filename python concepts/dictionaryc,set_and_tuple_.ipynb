{
  "nbformat": 4,
  "nbformat_minor": 0,
  "metadata": {
    "colab": {
      "name": "dictionaryc,set and tuple .ipynb",
      "provenance": []
    },
    "kernelspec": {
      "name": "python3",
      "display_name": "Python 3"
    },
    "language_info": {
      "name": "python"
    }
  },
  "cells": [
    {
      "cell_type": "markdown",
      "source": [
        "#**DICTIONARY**"
      ],
      "metadata": {
        "id": "VEKp9sHAna18"
      }
    },
    {
      "cell_type": "markdown",
      "source": [
        "**A dictionary is a collection which is ordered*, changeable and do not allow duplicates**"
      ],
      "metadata": {
        "id": "_DDme81ZngGo"
      }
    },
    {
      "cell_type": "markdown",
      "source": [
        "`**1.Creation of dictionary and calling the elements**"
      ],
      "metadata": {
        "id": "pR9x-qnrnuvh"
      }
    },
    {
      "cell_type": "code",
      "execution_count": null,
      "metadata": {
        "id": "G4gx1p18nOym"
      },
      "outputs": [],
      "source": [
        "a={1:'a',2:'git',3:'hub',4:'python',5:'datascience'}"
      ]
    },
    {
      "cell_type": "code",
      "source": [
        "#calling the whole dictionary\n",
        "print(a)"
      ],
      "metadata": {
        "colab": {
          "base_uri": "https://localhost:8080/"
        },
        "id": "2gonHs1ZoMwh",
        "outputId": "0e34689d-ec61-424d-a590-d8acd6365709"
      },
      "execution_count": null,
      "outputs": [
        {
          "output_type": "stream",
          "name": "stdout",
          "text": [
            "{1: 'a', 2: 'git', 3: 'hub', 4: 'python', 5: 'datascience'}\n"
          ]
        }
      ]
    },
    {
      "cell_type": "code",
      "source": [
        "#calling of key valued 1 element\n",
        "print(a[1])"
      ],
      "metadata": {
        "colab": {
          "base_uri": "https://localhost:8080/"
        },
        "id": "7dbMvPeBodx6",
        "outputId": "08a521a8-9dbc-4a89-a33d-d5d01058c731"
      },
      "execution_count": null,
      "outputs": [
        {
          "output_type": "stream",
          "name": "stdout",
          "text": [
            "a\n"
          ]
        }
      ]
    },
    {
      "cell_type": "code",
      "source": [
        "#usage of get method\n",
        "print(a.get(2))"
      ],
      "metadata": {
        "colab": {
          "base_uri": "https://localhost:8080/"
        },
        "id": "CUHeYMyioniI",
        "outputId": "e00be5a3-8b79-4b60-f5b4-c8ae33fa17e4"
      },
      "execution_count": null,
      "outputs": [
        {
          "output_type": "stream",
          "name": "stdout",
          "text": [
            "git\n"
          ]
        }
      ]
    },
    {
      "cell_type": "markdown",
      "source": [
        "**2.changing the values of the dictionary** "
      ],
      "metadata": {
        "id": "uLGKxSZPpEBx"
      }
    },
    {
      "cell_type": "code",
      "source": [
        "print(\"before changing value in the dictionay is \",a)\n",
        "a[2]='machine Learning'\n",
        "print(\"after changing value in the dictionay is \",a)"
      ],
      "metadata": {
        "colab": {
          "base_uri": "https://localhost:8080/"
        },
        "id": "o4_YXxEmo01h",
        "outputId": "2d30e1b4-1d49-44c4-dd9e-0b35e6eaf5be"
      },
      "execution_count": null,
      "outputs": [
        {
          "output_type": "stream",
          "name": "stdout",
          "text": [
            "before changing value in the dictionay is  {1: 'a', 2: 'git', 3: 'hub', 4: 'python', 5: 'datascience'}\n",
            "after changing value in the dictionay is  {1: 'a', 2: 'machine Learning', 3: 'hub', 4: 'python', 5: 'datascience'}\n"
          ]
        }
      ]
    },
    {
      "cell_type": "markdown",
      "source": [
        "**3.Inbuilt functions in dictionary**\n"
      ],
      "metadata": {
        "id": "YfWNAMcAqGWJ"
      }
    },
    {
      "cell_type": "markdown",
      "source": [
        "**1.clear()**"
      ],
      "metadata": {
        "id": "JQIzfXAVqVAv"
      }
    },
    {
      "cell_type": "code",
      "source": [
        "b={1:'y',2:'u',3:'i'}\n",
        "print(\"dictionary before using clear \",b)\n",
        "b.clear()\n",
        "print(\"dictionary after using clear  \", b)"
      ],
      "metadata": {
        "colab": {
          "base_uri": "https://localhost:8080/"
        },
        "id": "cKIKfL21ptyE",
        "outputId": "68f51d21-cd6a-4442-bd76-b4018d1edd50"
      },
      "execution_count": null,
      "outputs": [
        {
          "output_type": "stream",
          "name": "stdout",
          "text": [
            "dictionary before using clear  {1: 'y', 2: 'u', 3: 'i'}\n",
            "dictionary after using clear   {}\n"
          ]
        }
      ]
    },
    {
      "cell_type": "markdown",
      "source": [
        "**2.copy()**"
      ],
      "metadata": {
        "id": "nDjTHVA4IiA6"
      }
    },
    {
      "cell_type": "code",
      "source": [
        "#we use copy so that a new data space is n create\n",
        "a ={1:'a',2:'git',3:'hub',4:'python',5:'datascience'}\n",
        "b = a.copy()\n",
        "print(\" the copied dictionary is \",b)\n",
        "#if we use copy the changes made in b also reflects in a"
      ],
      "metadata": {
        "colab": {
          "base_uri": "https://localhost:8080/"
        },
        "id": "UTpWJ4kRq-4S",
        "outputId": "a317e323-c8d7-4c7b-d9e7-90e3ab242344"
      },
      "execution_count": null,
      "outputs": [
        {
          "output_type": "stream",
          "name": "stdout",
          "text": [
            " the copied dictionary is  {1: 'a', 2: 'git', 3: 'hub', 4: 'python', 5: 'datascience'}\n"
          ]
        }
      ]
    },
    {
      "cell_type": "markdown",
      "source": [
        "**3.values()**"
      ],
      "metadata": {
        "id": "KYVO8ZdmJgJz"
      }
    },
    {
      "cell_type": "code",
      "source": [
        "values=a.values()\n",
        "print(\"the values of a are \",values)"
      ],
      "metadata": {
        "colab": {
          "base_uri": "https://localhost:8080/"
        },
        "id": "5sIG1JBcI8uU",
        "outputId": "18a8ff62-ca39-4ae8-88bd-e761c781e67e"
      },
      "execution_count": null,
      "outputs": [
        {
          "output_type": "stream",
          "name": "stdout",
          "text": [
            "the values of a are  dict_values(['a', 'git', 'hub', 'python', 'datascience'])\n"
          ]
        }
      ]
    },
    {
      "cell_type": "markdown",
      "source": [
        "**4.keys()**"
      ],
      "metadata": {
        "id": "xvn2ZFbULfiM"
      }
    },
    {
      "cell_type": "code",
      "source": [
        "keys = a.keys()\n",
        "print(\"the keys of a are \",keys)"
      ],
      "metadata": {
        "colab": {
          "base_uri": "https://localhost:8080/"
        },
        "id": "pV-HHTuwJvw4",
        "outputId": "18e13f79-4350-4b95-ac55-19a1d63f4c6d"
      },
      "execution_count": null,
      "outputs": [
        {
          "output_type": "stream",
          "name": "stdout",
          "text": [
            "the keys of a are  dict_keys([1, 2, 3, 4, 5])\n"
          ]
        }
      ]
    },
    {
      "cell_type": "markdown",
      "source": [
        "**5.update()**"
      ],
      "metadata": {
        "id": "CZE8r75ULkjY"
      }
    },
    {
      "cell_type": "code",
      "source": [
        "print(a.update())"
      ],
      "metadata": {
        "colab": {
          "base_uri": "https://localhost:8080/"
        },
        "id": "p8QibO1EKBfJ",
        "outputId": "f2e46bb7-6cdb-414e-d3aa-78d3043922c8"
      },
      "execution_count": null,
      "outputs": [
        {
          "output_type": "stream",
          "name": "stdout",
          "text": [
            "None\n"
          ]
        }
      ]
    },
    {
      "cell_type": "markdown",
      "source": [
        "**6.items()**"
      ],
      "metadata": {
        "id": "vy1BjOAfMNsB"
      }
    },
    {
      "cell_type": "code",
      "source": [
        "print(a.items())"
      ],
      "metadata": {
        "colab": {
          "base_uri": "https://localhost:8080/"
        },
        "id": "ScXb6xwfMTF3",
        "outputId": "b0cdb453-571b-4f4c-b9ef-f04cfbc03f91"
      },
      "execution_count": null,
      "outputs": [
        {
          "output_type": "stream",
          "name": "stdout",
          "text": [
            "dict_items([(1, 'a'), (2, 'kiran'), (3, 'hub'), (4, 'python'), (5, 'datascience')])\n"
          ]
        }
      ]
    },
    {
      "cell_type": "markdown",
      "source": [
        "**7.pop()**"
      ],
      "metadata": {
        "id": "KjXjR-nHMgFo"
      }
    },
    {
      "cell_type": "code",
      "source": [
        "print(\"the dictionary before pop()\",a)\n",
        "x=a.pop(3)\n",
        "print(\"the dictionary after pop()\",a)\n",
        "print('the poped element is ', x)"
      ],
      "metadata": {
        "colab": {
          "base_uri": "https://localhost:8080/"
        },
        "id": "GFvFJObRMXNh",
        "outputId": "0dd21723-402d-42a5-f7b6-1fff9f5854b3"
      },
      "execution_count": null,
      "outputs": [
        {
          "output_type": "stream",
          "name": "stdout",
          "text": [
            "the dictionary before pop() {1: 'a', 2: 'kiran', 3: 'hub', 4: 'python', 5: 'datascience'}\n",
            "the dictionary after pop() {1: 'a', 2: 'kiran', 4: 'python', 5: 'datascience'}\n",
            "the poped element is  hub\n"
          ]
        }
      ]
    },
    {
      "cell_type": "markdown",
      "source": [
        "**8.popitem()**"
      ],
      "metadata": {
        "id": "CdB52n3sNdZA"
      }
    },
    {
      "cell_type": "code",
      "source": [
        "# pops the last item \n",
        "print(\"the dictionary before popitem()\",a)\n",
        "x=a.popitem()\n",
        "print(\"the dictionary after popitem()\",a)\n",
        "print('the poped element is ', x)"
      ],
      "metadata": {
        "colab": {
          "base_uri": "https://localhost:8080/"
        },
        "id": "Lu0nQOfaNVMp",
        "outputId": "b208d192-a0e7-40a5-8e66-992843040a0b"
      },
      "execution_count": null,
      "outputs": [
        {
          "output_type": "stream",
          "name": "stdout",
          "text": [
            "the dictionary before popitem() {1: 'a', 2: 'kiran', 4: 'python', 5: 'datascience'}\n",
            "the dictionary after popitem() {1: 'a', 2: 'kiran', 4: 'python'}\n",
            "the poped element is  (5, 'datascience')\n"
          ]
        }
      ]
    },
    {
      "cell_type": "code",
      "source": [
        ""
      ],
      "metadata": {
        "id": "B0Gt9Zc0N7he"
      },
      "execution_count": null,
      "outputs": []
    },
    {
      "cell_type": "markdown",
      "source": [
        "#**SETS**"
      ],
      "metadata": {
        "id": "YZIz4vPcODbG"
      }
    },
    {
      "cell_type": "markdown",
      "source": [
        "**PROPERTIES OF SET:**\n",
        "\n",
        "**1.NO INDEX**\n",
        "\n",
        "**2.NO ORDER**\n",
        "\n",
        "**3.NO DUPLICATES**\n"
      ],
      "metadata": {
        "id": "LqGWLh_Sn_Dc"
      }
    },
    {
      "cell_type": "markdown",
      "source": [
        "**1.creating a empty set**"
      ],
      "metadata": {
        "id": "KS0L_rzRokxM"
      }
    },
    {
      "cell_type": "code",
      "source": [
        "a = set()\n",
        "print(\"the empty set -> \",a)"
      ],
      "metadata": {
        "id": "4eqWBqCEOICG",
        "colab": {
          "base_uri": "https://localhost:8080/"
        },
        "outputId": "7c2aedc5-d87e-463d-bc23-5d46425e1c85"
      },
      "execution_count": 2,
      "outputs": [
        {
          "output_type": "stream",
          "name": "stdout",
          "text": [
            "the empty set ->  set()\n"
          ]
        }
      ]
    },
    {
      "cell_type": "markdown",
      "source": [
        "**2.creating a set and checking the output of set**"
      ],
      "metadata": {
        "id": "1qu3uBpkpT6U"
      }
    },
    {
      "cell_type": "code",
      "source": [
        "a = [1,3,55,6,7,8,2,3,3,3,11,1,1,55]\n",
        "print(\"the list a is \",a)\n",
        "print('length of the list a is ',len(a))\n",
        "a = set(a) # converting the list into set\n",
        "print(\"the set a{removes all duplicates} is \",a)\n",
        "print('length of the set a is ',len(a))"
      ],
      "metadata": {
        "colab": {
          "base_uri": "https://localhost:8080/"
        },
        "id": "iVufCOs8o2AD",
        "outputId": "10c4d55d-c4ba-401b-a9b0-ca2b210c4f4f"
      },
      "execution_count": 3,
      "outputs": [
        {
          "output_type": "stream",
          "name": "stdout",
          "text": [
            "the list a is  [1, 3, 55, 6, 7, 8, 2, 3, 3, 3, 11, 1, 1, 55]\n",
            "length of the list a is  14\n",
            "the set a{removes all duplicates} is  {1, 2, 3, 6, 7, 8, 11, 55}\n",
            "length of the set a is  8\n"
          ]
        }
      ]
    },
    {
      "cell_type": "markdown",
      "source": [
        "**3.INBUILT FUNCTIONS**"
      ],
      "metadata": {
        "id": "hJbcDisMqUx8"
      }
    },
    {
      "cell_type": "markdown",
      "source": [
        "**1.discard()**"
      ],
      "metadata": {
        "id": "DT5NvzAWqqBd"
      }
    },
    {
      "cell_type": "code",
      "source": [
        "a= {1,2,3,4,5}\n",
        "print(\"the set a is \", a)\n",
        "a.discard(2)\n",
        "print(\"the set a after discarding 2 is \",a)\n",
        "#if not in set doesn't throws error"
      ],
      "metadata": {
        "colab": {
          "base_uri": "https://localhost:8080/"
        },
        "id": "dY9whx5pqSE8",
        "outputId": "4a61472f-54a7-473e-b4f6-0af9d649ccbe"
      },
      "execution_count": 5,
      "outputs": [
        {
          "output_type": "stream",
          "name": "stdout",
          "text": [
            "the set a is  {1, 2, 3, 4, 5}\n",
            "the set a after discarding 2 is  {1, 3, 4, 5}\n"
          ]
        }
      ]
    },
    {
      "cell_type": "markdown",
      "source": [
        "**2.remove()**"
      ],
      "metadata": {
        "id": "iepuol5uroDn"
      }
    },
    {
      "cell_type": "code",
      "source": [
        "a= {1,2,3,4,5}\n",
        "print(\"the set a is \", a)\n",
        "a.remove(2)\n",
        "print(\"the set a after remove 2 is \",a)\n",
        "#if not in set  throws error"
      ],
      "metadata": {
        "colab": {
          "base_uri": "https://localhost:8080/"
        },
        "id": "H4zISbwHrXY0",
        "outputId": "818721a6-b360-4599-e73d-0c3d62527d4c"
      },
      "execution_count": 9,
      "outputs": [
        {
          "output_type": "stream",
          "name": "stdout",
          "text": [
            "the set a is  {1, 2, 3, 4, 5}\n",
            "the set a after remove 2 is  {1, 3, 4, 5}\n"
          ]
        }
      ]
    },
    {
      "cell_type": "markdown",
      "source": [
        "**3.pop()**"
      ],
      "metadata": {
        "id": "l8LqGNWssNKz"
      }
    },
    {
      "cell_type": "code",
      "source": [
        "a= {1,2,3,4,5}\n",
        "print(\"the set a is \", a)\n",
        "a.pop(2) # pop doesn't work in python because there is no indexing"
      ],
      "metadata": {
        "colab": {
          "base_uri": "https://localhost:8080/",
          "height": 218
        },
        "id": "hqwMdsL-r91i",
        "outputId": "82f73f6b-b5c2-4a10-d210-15153cc4b006"
      },
      "execution_count": 12,
      "outputs": [
        {
          "output_type": "stream",
          "name": "stdout",
          "text": [
            "the set a is  {1, 2, 3, 4, 5}\n"
          ]
        },
        {
          "output_type": "error",
          "ename": "TypeError",
          "evalue": "ignored",
          "traceback": [
            "\u001b[0;31m---------------------------------------------------------------------------\u001b[0m",
            "\u001b[0;31mTypeError\u001b[0m                                 Traceback (most recent call last)",
            "\u001b[0;32m<ipython-input-12-dad662364a5b>\u001b[0m in \u001b[0;36m<module>\u001b[0;34m()\u001b[0m\n\u001b[1;32m      1\u001b[0m \u001b[0ma\u001b[0m\u001b[0;34m=\u001b[0m \u001b[0;34m{\u001b[0m\u001b[0;36m1\u001b[0m\u001b[0;34m,\u001b[0m\u001b[0;36m2\u001b[0m\u001b[0;34m,\u001b[0m\u001b[0;36m3\u001b[0m\u001b[0;34m,\u001b[0m\u001b[0;36m4\u001b[0m\u001b[0;34m,\u001b[0m\u001b[0;36m5\u001b[0m\u001b[0;34m}\u001b[0m\u001b[0;34m\u001b[0m\u001b[0;34m\u001b[0m\u001b[0m\n\u001b[1;32m      2\u001b[0m \u001b[0mprint\u001b[0m\u001b[0;34m(\u001b[0m\u001b[0;34m\"the set a is \"\u001b[0m\u001b[0;34m,\u001b[0m \u001b[0ma\u001b[0m\u001b[0;34m)\u001b[0m\u001b[0;34m\u001b[0m\u001b[0;34m\u001b[0m\u001b[0m\n\u001b[0;32m----> 3\u001b[0;31m \u001b[0ma\u001b[0m\u001b[0;34m.\u001b[0m\u001b[0mpop\u001b[0m\u001b[0;34m(\u001b[0m\u001b[0;36m2\u001b[0m\u001b[0;34m)\u001b[0m\u001b[0;31m# pop doesn't work in python because there is no indexing\u001b[0m\u001b[0;34m\u001b[0m\u001b[0;34m\u001b[0m\u001b[0m\n\u001b[0m",
            "\u001b[0;31mTypeError\u001b[0m: pop() takes no arguments (1 given)"
          ]
        }
      ]
    },
    {
      "cell_type": "markdown",
      "source": [
        "**4.union()**"
      ],
      "metadata": {
        "id": "joBZARnCuTjk"
      }
    },
    {
      "cell_type": "code",
      "source": [
        "a={1,2,3}\n",
        "b={2,3,4}\n",
        "print(\"the a union b is \",a|b,\"or\",a.union(b))"
      ],
      "metadata": {
        "colab": {
          "base_uri": "https://localhost:8080/"
        },
        "id": "A767MFvttNfD",
        "outputId": "58ac00b3-c66a-46e1-f7b1-6bcb921b9e7c"
      },
      "execution_count": 14,
      "outputs": [
        {
          "output_type": "stream",
          "name": "stdout",
          "text": [
            "the a union b is  {1, 2, 3, 4} or {1, 2, 3, 4}\n"
          ]
        }
      ]
    },
    {
      "cell_type": "markdown",
      "source": [
        "**5.intersection()**"
      ],
      "metadata": {
        "id": "IBaTsFiEun-s"
      }
    },
    {
      "cell_type": "code",
      "source": [
        "a={1,2,3,4}\n",
        "b={3,4,5,6}\n",
        "print(\"the intersection of a and b is\",a&b,'or',a.intersection(b))"
      ],
      "metadata": {
        "colab": {
          "base_uri": "https://localhost:8080/"
        },
        "id": "AssyDmCduRKx",
        "outputId": "84134d85-da8f-4a7b-f84d-eac7469ff7d3"
      },
      "execution_count": 15,
      "outputs": [
        {
          "output_type": "stream",
          "name": "stdout",
          "text": [
            "the intersection of a and b is {3, 4} or {3, 4}\n"
          ]
        }
      ]
    },
    {
      "cell_type": "markdown",
      "source": [
        "**6.difference()**"
      ],
      "metadata": {
        "id": "f05ii150vP1d"
      }
    },
    {
      "cell_type": "code",
      "source": [
        "a={1,2,3,4}\n",
        "b={3,4,5,6}\n",
        "print(\"the difference of a by b is\",a-b,'or',a.difference(b))"
      ],
      "metadata": {
        "colab": {
          "base_uri": "https://localhost:8080/"
        },
        "id": "xMTr8cHPvNjT",
        "outputId": "67ff9782-7748-4a4f-df2a-7d36da9a8844"
      },
      "execution_count": 16,
      "outputs": [
        {
          "output_type": "stream",
          "name": "stdout",
          "text": [
            "the difference of a by b is {1, 2} or {1, 2}\n"
          ]
        }
      ]
    },
    {
      "cell_type": "markdown",
      "source": [
        "**7.update()**"
      ],
      "metadata": {
        "id": "khNu1lCtvmZn"
      }
    },
    {
      "cell_type": "code",
      "source": [
        "a={1,2,3}\n",
        "print(\"the update done on a is \",a.update())"
      ],
      "metadata": {
        "colab": {
          "base_uri": "https://localhost:8080/"
        },
        "id": "QodPB81WviIq",
        "outputId": "09e2a02b-1e6f-4c7c-f439-6282c912abe6"
      },
      "execution_count": 17,
      "outputs": [
        {
          "output_type": "stream",
          "name": "stdout",
          "text": [
            "the update done on a is  None\n"
          ]
        }
      ]
    },
    {
      "cell_type": "markdown",
      "source": [
        "#**TUPLES**"
      ],
      "metadata": {
        "id": "YVeQhF_mwBHR"
      }
    },
    {
      "cell_type": "markdown",
      "source": [
        "**1.creation of empty tuple**"
      ],
      "metadata": {
        "id": "S-NXCijJwP1B"
      }
    },
    {
      "cell_type": "code",
      "source": [
        "a=tuple()\n",
        "print(\"the empty tuple is \",a)"
      ],
      "metadata": {
        "colab": {
          "base_uri": "https://localhost:8080/"
        },
        "id": "DX01hekNwJLw",
        "outputId": "d1543e4b-84f2-4025-8b0b-8a837213ad0e"
      },
      "execution_count": 18,
      "outputs": [
        {
          "output_type": "stream",
          "name": "stdout",
          "text": [
            "the empty tuple is  ()\n"
          ]
        }
      ]
    },
    {
      "cell_type": "markdown",
      "source": [
        "**2.ways of creating a tuple**"
      ],
      "metadata": {
        "id": "wah3f2BGwnC5"
      }
    },
    {
      "cell_type": "code",
      "source": [
        "a=tuple([1,2,3])\n",
        "print(a)\n",
        "b=(1,2,3)\n",
        "print(b)\n",
        "c=1,2,3,#to be noted\n",
        "print(c)"
      ],
      "metadata": {
        "colab": {
          "base_uri": "https://localhost:8080/"
        },
        "id": "ggKjLhm-wgkb",
        "outputId": "98d0958f-2ad3-4070-d5fe-ce00e76b1b82"
      },
      "execution_count": 20,
      "outputs": [
        {
          "output_type": "stream",
          "name": "stdout",
          "text": [
            "(1, 2, 3)\n",
            "(1, 2, 3)\n",
            "(1, 2, 3)\n"
          ]
        }
      ]
    },
    {
      "cell_type": "markdown",
      "source": [
        "**BUILTIN FUNCTIONS**"
      ],
      "metadata": {
        "id": "qHyXSTacxLR0"
      }
    },
    {
      "cell_type": "markdown",
      "source": [
        "**1.concatination**"
      ],
      "metadata": {
        "id": "LYRixQlPxV0R"
      }
    },
    {
      "cell_type": "code",
      "source": [
        "a=1,2,3,\n",
        "b=4,5,6,\n",
        "print(a+b)"
      ],
      "metadata": {
        "colab": {
          "base_uri": "https://localhost:8080/"
        },
        "id": "zwcVSrdYxAxo",
        "outputId": "48c08625-7945-4a13-ade4-969ba14d2299"
      },
      "execution_count": 21,
      "outputs": [
        {
          "output_type": "stream",
          "name": "stdout",
          "text": [
            "(1, 2, 3, 4, 5, 6)\n"
          ]
        }
      ]
    },
    {
      "cell_type": "markdown",
      "source": [
        "**2.del**"
      ],
      "metadata": {
        "id": "XsKmy4sOxnSg"
      }
    },
    {
      "cell_type": "code",
      "source": [
        "a=1,2,3,\n",
        "print(\"a exists ->\",a)\n",
        "del a                     #DELETES THE WHOLE VARIABLE\n",
        "print(a)"
      ],
      "metadata": {
        "colab": {
          "base_uri": "https://localhost:8080/",
          "height": 218
        },
        "id": "p0elzc6NxlWp",
        "outputId": "b801dfe4-fe93-4ac8-90a4-5da5ada71f22"
      },
      "execution_count": 22,
      "outputs": [
        {
          "output_type": "stream",
          "name": "stdout",
          "text": [
            "a exists -> (1, 2, 3)\n"
          ]
        },
        {
          "output_type": "error",
          "ename": "NameError",
          "evalue": "ignored",
          "traceback": [
            "\u001b[0;31m---------------------------------------------------------------------------\u001b[0m",
            "\u001b[0;31mNameError\u001b[0m                                 Traceback (most recent call last)",
            "\u001b[0;32m<ipython-input-22-e5ee3d9a6b7a>\u001b[0m in \u001b[0;36m<module>\u001b[0;34m()\u001b[0m\n\u001b[1;32m      2\u001b[0m \u001b[0mprint\u001b[0m\u001b[0;34m(\u001b[0m\u001b[0;34m\"a exists ->\"\u001b[0m\u001b[0;34m,\u001b[0m\u001b[0ma\u001b[0m\u001b[0;34m)\u001b[0m\u001b[0;34m\u001b[0m\u001b[0;34m\u001b[0m\u001b[0m\n\u001b[1;32m      3\u001b[0m \u001b[0;32mdel\u001b[0m \u001b[0ma\u001b[0m\u001b[0;34m\u001b[0m\u001b[0;34m\u001b[0m\u001b[0m\n\u001b[0;32m----> 4\u001b[0;31m \u001b[0mprint\u001b[0m\u001b[0;34m(\u001b[0m\u001b[0ma\u001b[0m\u001b[0;34m)\u001b[0m\u001b[0;34m\u001b[0m\u001b[0;34m\u001b[0m\u001b[0m\n\u001b[0m",
            "\u001b[0;31mNameError\u001b[0m: name 'a' is not defined"
          ]
        }
      ]
    },
    {
      "cell_type": "markdown",
      "source": [
        "**INDEXING AND SLICING IS SAME AS LIST** "
      ],
      "metadata": {
        "id": "2RyUHCCe5-Q8"
      }
    },
    {
      "cell_type": "markdown",
      "source": [
        "**3.count()**"
      ],
      "metadata": {
        "id": "jHD6jzzD6L8K"
      }
    },
    {
      "cell_type": "code",
      "source": [
        "a=1,2,3,\n",
        "print(a.count(1))"
      ],
      "metadata": {
        "colab": {
          "base_uri": "https://localhost:8080/"
        },
        "id": "7O-NiUN4yAkZ",
        "outputId": "dbc7affd-0631-47ee-9dbb-047a675af1b0"
      },
      "execution_count": 24,
      "outputs": [
        {
          "output_type": "stream",
          "name": "stdout",
          "text": [
            "1\n"
          ]
        }
      ]
    },
    {
      "cell_type": "markdown",
      "source": [
        "**4.index()**"
      ],
      "metadata": {
        "id": "6GfGABZU6jCh"
      }
    },
    {
      "cell_type": "code",
      "source": [
        "a=0,8,5,\n",
        "print(a.index(8))"
      ],
      "metadata": {
        "colab": {
          "base_uri": "https://localhost:8080/"
        },
        "id": "5Ip8nCCo6abu",
        "outputId": "a89d3b81-f241-49be-d6ca-fd5834a11fe7"
      },
      "execution_count": 26,
      "outputs": [
        {
          "output_type": "stream",
          "name": "stdout",
          "text": [
            "1\n"
          ]
        }
      ]
    },
    {
      "cell_type": "code",
      "source": [
        ""
      ],
      "metadata": {
        "id": "MKJMfufD6ugU"
      },
      "execution_count": null,
      "outputs": []
    }
  ]
}