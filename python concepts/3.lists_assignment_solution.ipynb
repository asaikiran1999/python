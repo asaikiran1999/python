{
  "nbformat": 4,
  "nbformat_minor": 0,
  "metadata": {
    "colab": {
      "name": "lists_assignment_solution.ipynb",
      "provenance": []
    },
    "kernelspec": {
      "name": "python3",
      "display_name": "Python 3"
    },
    "language_info": {
      "name": "python"
    }
  },
  "cells": [
    {
      "cell_type": "markdown",
      "source": [
        "**1.Create a dictionary \"{1:'a',2:'b',3:'c'}\" convert the keys and values into seperate list and combine the two lists into a single list as \"[1,a,1,2,b,3,c]\"** "
      ],
      "metadata": {
        "id": "hdg9SIBnV6Q3"
      }
    },
    {
      "cell_type": "code",
      "execution_count": 5,
      "metadata": {
        "colab": {
          "base_uri": "https://localhost:8080/"
        },
        "id": "7uJEeGbKVrLg",
        "outputId": "f5ce0662-7e1d-4440-b38f-6b0eedbf04e6"
      },
      "outputs": [
        {
          "output_type": "stream",
          "name": "stdout",
          "text": [
            "[1, 'a', 2, 'b', 3, 'c']\n"
          ]
        }
      ],
      "source": [
        "dict1 = {1:'a',2:'b',3:'c'}\n",
        "list1 = dict1.items()\n",
        "list3 = []\n",
        "for i in list1:\n",
        "  list3.append(i[0])\n",
        "  list3.append(i[1])\n",
        "print(list3)"
      ]
    },
    {
      "cell_type": "markdown",
      "source": [
        "**2.what is the difference between extend and append.**"
      ],
      "metadata": {
        "id": "8adKj-4VYj3A"
      }
    },
    {
      "cell_type": "code",
      "source": [
        "list1 = [1,2,3,4]\n",
        "list11=list1.copy()\n",
        "list2 = [5,6,7,8]\n",
        "list1.append(list2)\n",
        "list11.extend(list2)\n",
        "print(\"the list1.append(list2) is \",list1)\n",
        "print(\"the list1.extend(list2) is \",list11)"
      ],
      "metadata": {
        "colab": {
          "base_uri": "https://localhost:8080/"
        },
        "id": "dD69BFnRXX9H",
        "outputId": "4fa681c1-69f7-43d3-f7f2-2d1402ae22a5"
      },
      "execution_count": 8,
      "outputs": [
        {
          "output_type": "stream",
          "name": "stdout",
          "text": [
            "the list1.append(list2) is  [1, 2, 3, 4, [5, 6, 7, 8]]\n",
            "the list1.extend(list2) is  [1, 2, 3, 4, 5, 6, 7, 8]\n"
          ]
        }
      ]
    },
    {
      "cell_type": "markdown",
      "source": [
        "**3.Take \"12345\" as a string and convert it to \"1-2-3-4-5\" using split and join concepts.**"
      ],
      "metadata": {
        "id": "IKBdILljZ4lm"
      }
    },
    {
      "cell_type": "code",
      "source": [
        "string1 = \"12345\"\n",
        "list1 = list(string1)\n",
        "string2 = \"-\".join(string1)\n",
        "print(string2)"
      ],
      "metadata": {
        "colab": {
          "base_uri": "https://localhost:8080/"
        },
        "id": "q6Q1KeEbZhtg",
        "outputId": "3641a3e5-77b8-4b90-9d1e-8a2eeb7487d0"
      },
      "execution_count": 12,
      "outputs": [
        {
          "output_type": "stream",
          "name": "stdout",
          "text": [
            "1-2-3-4-5\n"
          ]
        }
      ]
    },
    {
      "cell_type": "markdown",
      "source": [
        "**4.Take the list \"[0,1,2,3,4]\" find index of 1 in the given list then insert 2 after it.**"
      ],
      "metadata": {
        "id": "LJn_tDW9axbv"
      }
    },
    {
      "cell_type": "code",
      "source": [
        "list1 =[0,1,2,3,4]\n",
        "x = list1.index(1)\n",
        "list1.insert(x+1,2)\n",
        "print(list1)"
      ],
      "metadata": {
        "colab": {
          "base_uri": "https://localhost:8080/"
        },
        "id": "ND2zDWMuajm3",
        "outputId": "d495bee0-d6f2-4cb8-885b-f77001400984"
      },
      "execution_count": 15,
      "outputs": [
        {
          "output_type": "stream",
          "name": "stdout",
          "text": [
            "[0, 1, 2, 2, 3, 4]\n"
          ]
        }
      ]
    },
    {
      "cell_type": "markdown",
      "source": [
        "**5.Use the range function and convert that range into list and then make the elements in the string repeat three times**"
      ],
      "metadata": {
        "id": "My3T3xM4bvo9"
      }
    },
    {
      "cell_type": "code",
      "source": [
        "list1 = list(range(3))\n",
        "print(list1)\n",
        "list1 = list1*3\n",
        "print(list1)\n"
      ],
      "metadata": {
        "colab": {
          "base_uri": "https://localhost:8080/"
        },
        "id": "YP0H1I87bmiO",
        "outputId": "5892facc-2649-49b4-e9a5-27d98a3b17c4"
      },
      "execution_count": 17,
      "outputs": [
        {
          "output_type": "stream",
          "name": "stdout",
          "text": [
            "[0, 1, 2]\n",
            "[0, 1, 2, 0, 1, 2, 0, 1, 2]\n"
          ]
        }
      ]
    }
  ]
}