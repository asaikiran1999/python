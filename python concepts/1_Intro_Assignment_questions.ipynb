{
  "nbformat": 4,
  "nbformat_minor": 0,
  "metadata": {
    "colab": {
      "name": "1.Intro-Assignment_questions.ipynb",
      "provenance": []
    },
    "kernelspec": {
      "name": "python3",
      "display_name": "Python 3"
    },
    "language_info": {
      "name": "python"
    }
  },
  "cells": [
    {
      "cell_type": "markdown",
      "source": [
        "**1.print 'hello' and a name which is taken from user.**"
      ],
      "metadata": {
        "id": "534NEkRiRoDa"
      }
    },
    {
      "cell_type": "code",
      "execution_count": 1,
      "metadata": {
        "colab": {
          "base_uri": "https://localhost:8080/"
        },
        "cellView": "form",
        "id": "DvKoQ5RvRegi",
        "outputId": "4b60868d-3e59-4ef8-81a4-ae91c161036a"
      },
      "outputs": [
        {
          "output_type": "stream",
          "name": "stdout",
          "text": [
            "sai\n",
            "hello  sai\n"
          ]
        }
      ],
      "source": [
        "#@title\n",
        "x= input()\n",
        "print(\"hello \", x)"
      ]
    },
    {
      "cell_type": "markdown",
      "source": [
        "**2.take a float value and convert it into a integer and then into a string.**"
      ],
      "metadata": {
        "id": "ONaDbOQUSASO"
      }
    },
    {
      "cell_type": "code",
      "source": [
        "#@title\n",
        "x = 2.1\n",
        "print(type(x))\n",
        "y=str(x)\n",
        "print(type(y))\n",
        "z=int(float((y)))\n",
        "print(type(z))"
      ],
      "metadata": {
        "colab": {
          "base_uri": "https://localhost:8080/"
        },
        "cellView": "form",
        "id": "pReU8BIFSVsV",
        "outputId": "8b1614cb-0e01-4ac0-fb24-684157a3d87f"
      },
      "execution_count": 5,
      "outputs": [
        {
          "output_type": "stream",
          "name": "stdout",
          "text": [
            "<class 'float'>\n",
            "<class 'str'>\n",
            "<class 'int'>\n"
          ]
        }
      ]
    },
    {
      "cell_type": "markdown",
      "source": [
        "**3.define a tuple and convert it into a list, then convert the list into a set.**"
      ],
      "metadata": {
        "id": "Qyh5byZBSXo_"
      }
    },
    {
      "cell_type": "code",
      "source": [
        "#@title\n",
        "x=1,2,3,4,3,3,\n",
        "print(x)\n",
        "print(list(x))\n",
        "print(set(x))"
      ],
      "metadata": {
        "colab": {
          "base_uri": "https://localhost:8080/"
        },
        "cellView": "form",
        "id": "so4PKYuzSsW2",
        "outputId": "c5889a85-90d9-4f0a-e498-594d948e775c"
      },
      "execution_count": 7,
      "outputs": [
        {
          "output_type": "stream",
          "name": "stdout",
          "text": [
            "(1, 2, 3, 4, 3, 3)\n",
            "[1, 2, 3, 4, 3, 3]\n",
            "{1, 2, 3, 4}\n"
          ]
        }
      ]
    },
    {
      "cell_type": "markdown",
      "source": [
        "**4.print a dictionary with rollno, student name, and class name as keys with coresponding values taken from users.**"
      ],
      "metadata": {
        "id": "mQHfLLiwSxs3"
      }
    },
    {
      "cell_type": "code",
      "source": [
        "#@title\n",
        "x=input('enter student rollno : ')\n",
        "y=input('enter student name : ')\n",
        "z=input('enter student class name : ')\n",
        "a={'roll no':x,'student name':y,'class name':z}\n",
        "print(a)"
      ],
      "metadata": {
        "colab": {
          "base_uri": "https://localhost:8080/"
        },
        "cellView": "form",
        "id": "roGG_TdcTQru",
        "outputId": "77f31ace-7700-4933-f219-6c7e15c067ce"
      },
      "execution_count": 9,
      "outputs": [
        {
          "output_type": "stream",
          "name": "stdout",
          "text": [
            "enter student rollno : 3\n",
            "enter student name : loki\n",
            "enter student class name : maths\n",
            "{'roll no': '3', 'student name': 'loki', 'class name': 'maths'}\n"
          ]
        }
      ]
    },
    {
      "cell_type": "code",
      "source": [
        ""
      ],
      "metadata": {
        "id": "AfnNttGGVTk1"
      },
      "execution_count": null,
      "outputs": []
    },
    {
      "cell_type": "markdown",
      "source": [
        "#**[CLICK HERE](https://github.com/asaikiran1999/python/blob/main/python%20concepts/1_Intro_Assignment.ipynb)** for solutions"
      ],
      "metadata": {
        "id": "iRGhmUaqW3C4"
      }
    }
  ]
}