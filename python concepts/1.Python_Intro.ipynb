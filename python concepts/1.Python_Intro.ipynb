{
  "nbformat": 4,
  "nbformat_minor": 0,
  "metadata": {
    "colab": {
      "name": "Python Intro.ipynb",
      "provenance": []
    },
    "kernelspec": {
      "name": "python3",
      "display_name": "Python 3"
    },
    "language_info": {
      "name": "python"
    }
  },
  "cells": [
    {
      "cell_type": "markdown",
      "source": [
        "#**IN THIS PlAYLIST YOU LEARN ABOUT**\n",
        "\n",
        "**1.Python Syntax of various logics.**\n",
        "\n",
        "**2.Basic to Advance python concepts**\n",
        "\n",
        "**3.Extercise after every sections.**\n",
        "\n",
        "**4.Our Channel is adds free(No ADDS)**"
      ],
      "metadata": {
        "id": "87TVyHqYrUA2"
      }
    },
    {
      "cell_type": "markdown",
      "source": [
        "#PYTHON INTRO\n",
        "\n",
        "1.EASY TO CODE AND UNDERSTAND\n",
        "\n",
        "2.ACTS AS AN INTERPRETOR\n",
        "\n",
        "3.HAS HUGE LIBRARIES"
      ],
      "metadata": {
        "id": "q8TXx3KHQJoH"
      }
    },
    {
      "cell_type": "markdown",
      "source": [
        "**1.basic python code**"
      ],
      "metadata": {
        "id": "GVtOJJJ5RA38"
      }
    },
    {
      "cell_type": "code",
      "source": [
        "print('learn quick and work more')"
      ],
      "metadata": {
        "colab": {
          "base_uri": "https://localhost:8080/"
        },
        "id": "sZhJVdoCRALF",
        "outputId": "0558499f-258a-41b7-fedb-a6814d338b6c",
        "collapsed": true
      },
      "execution_count": null,
      "outputs": [
        {
          "output_type": "stream",
          "name": "stdout",
          "text": [
            "learn quick and work more\n"
          ]
        }
      ]
    },
    {
      "cell_type": "markdown",
      "source": [
        "**2.Variable : it can store the data**\n",
        "\n",
        "**basically there are 4 types of variables**\n"
      ],
      "metadata": {
        "id": "ZsTFhdzCQ_vF"
      }
    },
    {
      "cell_type": "markdown",
      "source": [
        "**1.number**"
      ],
      "metadata": {
        "id": "Hxb8B_sjSArW"
      }
    },
    {
      "cell_type": "code",
      "execution_count": null,
      "metadata": {
        "colab": {
          "base_uri": "https://localhost:8080/"
        },
        "id": "lxMacg6pKqlC",
        "outputId": "b123f2a3-c316-4513-eabc-c8de17f29419",
        "collapsed": true
      },
      "outputs": [
        {
          "output_type": "stream",
          "name": "stdout",
          "text": [
            "<class 'int'>\n"
          ]
        }
      ],
      "source": [
        "a = 1\n",
        "print(type(a))"
      ]
    },
    {
      "cell_type": "markdown",
      "source": [
        "**2.strings**"
      ],
      "metadata": {
        "id": "Iw-yjuRtQINa"
      }
    },
    {
      "cell_type": "code",
      "source": [
        "a='hello quicky'\n",
        "print((type(a)))"
      ],
      "metadata": {
        "colab": {
          "base_uri": "https://localhost:8080/"
        },
        "id": "OMWvE1NxSYzE",
        "outputId": "3d9492cd-b12f-49a6-c347-da44618d0329",
        "collapsed": true
      },
      "execution_count": null,
      "outputs": [
        {
          "output_type": "stream",
          "name": "stdout",
          "text": [
            "<class 'str'>\n"
          ]
        }
      ]
    },
    {
      "cell_type": "markdown",
      "source": [
        "**3.Boolean**"
      ],
      "metadata": {
        "id": "QhBXiYgNS31d"
      }
    },
    {
      "cell_type": "code",
      "source": [
        "a=True\n",
        "b=False\n",
        "print(type(a))\n",
        "print(type(b))"
      ],
      "metadata": {
        "colab": {
          "base_uri": "https://localhost:8080/"
        },
        "id": "NWCaSnRgSu99",
        "outputId": "4e12edc9-f7ad-44e5-8993-1514da7ee840",
        "collapsed": true
      },
      "execution_count": null,
      "outputs": [
        {
          "output_type": "stream",
          "name": "stdout",
          "text": [
            "<class 'bool'>\n",
            "<class 'bool'>\n"
          ]
        }
      ]
    },
    {
      "cell_type": "markdown",
      "source": [
        "**4.sequences**\n",
        "\n",
        "1.tuple\n",
        "\n",
        "2.list\n",
        "\n",
        "3.set\n",
        "\n",
        "4.dictionary"
      ],
      "metadata": {
        "id": "f8KheS3ETLfd"
      }
    },
    {
      "cell_type": "code",
      "source": [
        "a = 1,2,3,\n",
        "b = [1,2,3]\n",
        "c = {1,2,3}\n",
        "d = {1:'sai',2:'kiran',3:'avasarala'}\n",
        "print(type(a))\n",
        "print(type(b))\n",
        "print(type(c))\n",
        "print(type(d))"
      ],
      "metadata": {
        "colab": {
          "base_uri": "https://localhost:8080/"
        },
        "id": "RN5BsUxXTCem",
        "outputId": "b257ec96-99b4-4cc4-801f-7a6389c08453",
        "collapsed": true
      },
      "execution_count": null,
      "outputs": [
        {
          "output_type": "stream",
          "name": "stdout",
          "text": [
            "<class 'tuple'>\n",
            "<class 'list'>\n",
            "<class 'set'>\n",
            "<class 'dict'>\n"
          ]
        }
      ]
    },
    {
      "cell_type": "markdown",
      "source": [
        "**5.Taking inputs**"
      ],
      "metadata": {
        "id": "3cBveRSfUB8c"
      }
    },
    {
      "cell_type": "code",
      "source": [
        "#@title\n",
        "a = input(\" enter your mindset : \")\n",
        "print(\"You are \",a)"
      ],
      "metadata": {
        "colab": {
          "base_uri": "https://localhost:8080/"
        },
        "id": "xHF59xllT0Mv",
        "outputId": "b874afc0-957e-40de-ef65-8ba662cc62ab",
        "collapsed": true
      },
      "execution_count": null,
      "outputs": [
        {
          "output_type": "stream",
          "name": "stdout",
          "text": [
            " enter your mindset : happy\n",
            "You are  happy\n"
          ]
        }
      ]
    },
    {
      "cell_type": "markdown",
      "source": [
        "**6.Cascading**"
      ],
      "metadata": {
        "id": "wv8fmzLss-2y"
      }
    },
    {
      "cell_type": "code",
      "source": [
        "a= input(\"enter a number\")\n",
        "print(\"the\",a,\"is\",type(a))\n",
        "a=int(a)\n",
        "print(\"the\",a,\"is\",type(a))"
      ],
      "metadata": {
        "id": "H4EGECBeUqe9",
        "colab": {
          "base_uri": "https://localhost:8080/"
        },
        "collapsed": true,
        "outputId": "e341fbc2-b04c-487f-99b2-684f52d55f73"
      },
      "execution_count": null,
      "outputs": [
        {
          "output_type": "stream",
          "name": "stdout",
          "text": [
            "enter a number4\n",
            "the 4 is <class 'str'>\n",
            "the 4 is <class 'int'>\n"
          ]
        }
      ]
    },
    {
      "cell_type": "code",
      "source": [
        ""
      ],
      "metadata": {
        "id": "7nW1364QtiDE"
      },
      "execution_count": null,
      "outputs": []
    }
  ]
}