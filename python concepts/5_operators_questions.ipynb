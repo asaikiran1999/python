{
  "nbformat": 4,
  "nbformat_minor": 0,
  "metadata": {
    "colab": {
      "name": "5.operators_questions.ipynb",
      "provenance": []
    },
    "kernelspec": {
      "name": "python3",
      "display_name": "Python 3"
    },
    "language_info": {
      "name": "python"
    }
  },
  "cells": [
    {
      "cell_type": "markdown",
      "source": [
        "**1.Execute the following statement axb+cxd/e following BODMAS rules under taking user inputs of a,b,c,d,e values**"
      ],
      "metadata": {
        "id": "dIHAyuXwi-ta"
      }
    },
    {
      "cell_type": "markdown",
      "source": [
        "**2.Taking inputs of a,b and**\n",
        "\n",
        "**print \"a is equal to b \" if a==b**\n",
        "\n",
        "**print \"a is not equal to b \" if a!=b**\n",
        "\n",
        "**print \"a is greater than b \" if a>b**\n",
        "\n",
        "**print \"a is less than b \" if a<b**"
      ],
      "metadata": {
        "id": "8x8uqTgckTKx"
      }
    },
    {
      "cell_type": "markdown",
      "source": [
        "**3.print \"a is zero\" if (a>0 and a<0 ) is false**"
      ],
      "metadata": {
        "id": "bk6FOF1Ll5VY"
      }
    },
    {
      "cell_type": "markdown",
      "source": [
        "#**[CLICK HERE](https://github.com/asaikiran1999/python/blob/main/python%20concepts/5_operators_solutions.ipynb)** for Solutions"
      ],
      "metadata": {
        "id": "-XWHOFK0oEpw"
      }
    },
    {
      "cell_type": "code",
      "source": [
        ""
      ],
      "metadata": {
        "id": "9my93tmVoSjo"
      },
      "execution_count": null,
      "outputs": []
    }
  ]
}