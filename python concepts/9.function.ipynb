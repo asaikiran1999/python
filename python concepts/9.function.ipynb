{
  "nbformat": 4,
  "nbformat_minor": 0,
  "metadata": {
    "colab": {
      "name": "function.ipynb",
      "provenance": []
    },
    "kernelspec": {
      "name": "python3",
      "display_name": "Python 3"
    },
    "language_info": {
      "name": "python"
    }
  },
  "cells": [
    {
      "cell_type": "markdown",
      "source": [
        "#**FUNCTION**\n",
        "is used to store the code at a single place and use it multiple times."
      ],
      "metadata": {
        "id": "Aunf072XRSae"
      }
    },
    {
      "cell_type": "markdown",
      "source": [
        "**There are four types of functions**"
      ],
      "metadata": {
        "id": "sDxhx7NeRm25"
      }
    },
    {
      "cell_type": "markdown",
      "source": [
        "**1.without arguments and without return**"
      ],
      "metadata": {
        "id": "UBAyZLbIR04v"
      }
    },
    {
      "cell_type": "code",
      "execution_count": null,
      "metadata": {
        "id": "qxTQJYG8ROwy"
      },
      "outputs": [],
      "source": [
        "def fun1():\n",
        "  print('QUICK LEARN')"
      ]
    },
    {
      "cell_type": "code",
      "source": [
        "fun1()"
      ],
      "metadata": {
        "colab": {
          "base_uri": "https://localhost:8080/"
        },
        "id": "r6h8sAfFSOM4",
        "outputId": "f94b4b52-a988-46f5-9d0e-794295de1f81"
      },
      "execution_count": null,
      "outputs": [
        {
          "output_type": "stream",
          "name": "stdout",
          "text": [
            "QUICK LEARN\n"
          ]
        }
      ]
    },
    {
      "cell_type": "markdown",
      "source": [
        "**2.without arguments and with return**"
      ],
      "metadata": {
        "id": "twNYZ2qZSR3J"
      }
    },
    {
      "cell_type": "code",
      "source": [
        "def fun2():\n",
        "  string = 'QUICK LEARN'\n",
        "  return string"
      ],
      "metadata": {
        "id": "-42XGu6nSQn3"
      },
      "execution_count": null,
      "outputs": []
    },
    {
      "cell_type": "code",
      "source": [
        "x = fun2()\n",
        "print(x)"
      ],
      "metadata": {
        "colab": {
          "base_uri": "https://localhost:8080/"
        },
        "id": "GJ_8pjlYSuBd",
        "outputId": "aa825b1a-538e-421b-c11e-147421e0b006"
      },
      "execution_count": null,
      "outputs": [
        {
          "output_type": "stream",
          "name": "stdout",
          "text": [
            "QUICK LEARN\n"
          ]
        }
      ]
    },
    {
      "cell_type": "markdown",
      "source": [
        "**3.with arguments and without return**"
      ],
      "metadata": {
        "id": "ZchIJwGWS1J4"
      }
    },
    {
      "cell_type": "code",
      "source": [
        "def fun3(s):\n",
        "  print(s)\n"
      ],
      "metadata": {
        "id": "fepxATAfSyaH"
      },
      "execution_count": null,
      "outputs": []
    },
    {
      "cell_type": "code",
      "source": [
        "x='QUICk LEARN'\n",
        "fun3(x)"
      ],
      "metadata": {
        "colab": {
          "base_uri": "https://localhost:8080/"
        },
        "id": "6bQ2eDkeTFOy",
        "outputId": "2fa48f92-a080-4fdb-b042-adda142f9594"
      },
      "execution_count": null,
      "outputs": [
        {
          "output_type": "stream",
          "name": "stdout",
          "text": [
            "QUICk LEARN\n"
          ]
        }
      ]
    },
    {
      "cell_type": "markdown",
      "source": [
        "**4.with arguments and with return**"
      ],
      "metadata": {
        "id": "BM6hzEksTR2y"
      }
    },
    {
      "cell_type": "code",
      "source": [
        "def fun4(s):\n",
        "  k = s + ' python'\n",
        "  return k"
      ],
      "metadata": {
        "id": "ZW8ChhOMTQqH"
      },
      "execution_count": null,
      "outputs": []
    },
    {
      "cell_type": "code",
      "source": [
        "x='QUICK LEARN'\n",
        "y = fun4(x)\n",
        "print(y)"
      ],
      "metadata": {
        "colab": {
          "base_uri": "https://localhost:8080/"
        },
        "id": "ehrwOWxlTpyo",
        "outputId": "aab0e7ca-d4cd-4cde-e8ef-3d24237936a6"
      },
      "execution_count": null,
      "outputs": [
        {
          "output_type": "stream",
          "name": "stdout",
          "text": [
            "QUICK LEARN python\n"
          ]
        }
      ]
    },
    {
      "cell_type": "markdown",
      "source": [
        "#Handling Arguments in function"
      ],
      "metadata": {
        "id": "RWKvVTSjKjiT"
      }
    },
    {
      "cell_type": "markdown",
      "source": [
        "**1.predefined argument**"
      ],
      "metadata": {
        "id": "oTJhKU2BK6lS"
      }
    },
    {
      "cell_type": "code",
      "source": [
        "def fun5(a=1,b=2):\n",
        "  return a+b"
      ],
      "metadata": {
        "id": "613fJ94qK4vp"
      },
      "execution_count": 3,
      "outputs": []
    },
    {
      "cell_type": "code",
      "source": [
        "x=fun5()\n",
        "print(x)"
      ],
      "metadata": {
        "colab": {
          "base_uri": "https://localhost:8080/"
        },
        "id": "JrkTehpxLMeB",
        "outputId": "fd91890a-9ff4-4785-8584-becbe56119f3"
      },
      "execution_count": 4,
      "outputs": [
        {
          "output_type": "stream",
          "name": "stdout",
          "text": [
            "3\n"
          ]
        }
      ]
    },
    {
      "cell_type": "code",
      "source": [
        "x=fun5(4)\n",
        "print(x)"
      ],
      "metadata": {
        "colab": {
          "base_uri": "https://localhost:8080/"
        },
        "id": "HeIHyll_LSsA",
        "outputId": "3688ee05-3328-4735-a02a-f4de63b8d93d"
      },
      "execution_count": 6,
      "outputs": [
        {
          "output_type": "stream",
          "name": "stdout",
          "text": [
            "6\n"
          ]
        }
      ]
    },
    {
      "cell_type": "code",
      "source": [
        "x=fun5(4,5)\n",
        "print(x)"
      ],
      "metadata": {
        "colab": {
          "base_uri": "https://localhost:8080/"
        },
        "id": "Bpf2SKn7LdCK",
        "outputId": "b9f0c9b4-df85-4e6a-e9b6-da580da63342"
      },
      "execution_count": 7,
      "outputs": [
        {
          "output_type": "stream",
          "name": "stdout",
          "text": [
            "9\n"
          ]
        }
      ]
    },
    {
      "cell_type": "code",
      "source": [
        "x=fun5(1,2,3)\n",
        "print(x)"
      ],
      "metadata": {
        "colab": {
          "base_uri": "https://localhost:8080/",
          "height": 183
        },
        "id": "IQrZvve4Lqu_",
        "outputId": "92f359e4-0670-484e-ce98-5cb968b1d3a7"
      },
      "execution_count": 9,
      "outputs": [
        {
          "output_type": "error",
          "ename": "TypeError",
          "evalue": "ignored",
          "traceback": [
            "\u001b[0;31m---------------------------------------------------------------------------\u001b[0m",
            "\u001b[0;31mTypeError\u001b[0m                                 Traceback (most recent call last)",
            "\u001b[0;32m<ipython-input-9-0b0282646157>\u001b[0m in \u001b[0;36m<module>\u001b[0;34m()\u001b[0m\n\u001b[0;32m----> 1\u001b[0;31m \u001b[0mx\u001b[0m\u001b[0;34m=\u001b[0m\u001b[0mfun5\u001b[0m\u001b[0;34m(\u001b[0m\u001b[0;36m1\u001b[0m\u001b[0;34m,\u001b[0m\u001b[0;36m2\u001b[0m\u001b[0;34m,\u001b[0m\u001b[0;36m3\u001b[0m\u001b[0;34m)\u001b[0m\u001b[0;34m\u001b[0m\u001b[0;34m\u001b[0m\u001b[0m\n\u001b[0m\u001b[1;32m      2\u001b[0m \u001b[0mprint\u001b[0m\u001b[0;34m(\u001b[0m\u001b[0mx\u001b[0m\u001b[0;34m)\u001b[0m\u001b[0;34m\u001b[0m\u001b[0;34m\u001b[0m\u001b[0m\n",
            "\u001b[0;31mTypeError\u001b[0m: fun5() takes from 0 to 2 positional arguments but 3 were given"
          ]
        }
      ]
    },
    {
      "cell_type": "markdown",
      "source": [
        "**2.multiple arguments**"
      ],
      "metadata": {
        "id": "sA2IuNoNL1QB"
      }
    },
    {
      "cell_type": "code",
      "source": [
        "def fun6(*a,**b):\n",
        "  print(a)\n",
        "  print(b)\n",
        "\n",
        "fun6(1,2,3,f=9,j=40)"
      ],
      "metadata": {
        "colab": {
          "base_uri": "https://localhost:8080/"
        },
        "id": "vD8yrJXhLwAv",
        "outputId": "62a368ce-4067-4abd-9fe9-1614608be5f7"
      },
      "execution_count": 10,
      "outputs": [
        {
          "output_type": "stream",
          "name": "stdout",
          "text": [
            "(1, 2, 3)\n",
            "{'f': 9, 'j': 40}\n"
          ]
        }
      ]
    },
    {
      "cell_type": "markdown",
      "source": [
        "#practice assignment mentioned in description\n",
        "#**THANK YOU**"
      ],
      "metadata": {
        "id": "ILJxInuiMbXS"
      }
    },
    {
      "cell_type": "code",
      "source": [
        ""
      ],
      "metadata": {
        "id": "GtGIlOiOMR8B"
      },
      "execution_count": null,
      "outputs": []
    }
  ]
}