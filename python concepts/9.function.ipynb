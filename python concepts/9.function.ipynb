{
  "nbformat": 4,
  "nbformat_minor": 0,
  "metadata": {
    "colab": {
      "name": "function.ipynb",
      "provenance": []
    },
    "kernelspec": {
      "name": "python3",
      "display_name": "Python 3"
    },
    "language_info": {
      "name": "python"
    }
  },
  "cells": [
    {
      "cell_type": "markdown",
      "source": [
        "#**FUNCTION**\n",
        "is used to store the code at a single place and use it multiple times."
      ],
      "metadata": {
        "id": "Aunf072XRSae"
      }
    },
    {
      "cell_type": "markdown",
      "source": [
        "**There are four types of functions**"
      ],
      "metadata": {
        "id": "sDxhx7NeRm25"
      }
    },
    {
      "cell_type": "markdown",
      "source": [
        "**1.without arguments and without return**"
      ],
      "metadata": {
        "id": "UBAyZLbIR04v"
      }
    },
    {
      "cell_type": "code",
      "execution_count": 1,
      "metadata": {
        "id": "qxTQJYG8ROwy"
      },
      "outputs": [],
      "source": [
        "def fun1():\n",
        "  print('QUICK LEARN')"
      ]
    },
    {
      "cell_type": "code",
      "source": [
        "fun1()"
      ],
      "metadata": {
        "colab": {
          "base_uri": "https://localhost:8080/"
        },
        "id": "r6h8sAfFSOM4",
        "outputId": "f94b4b52-a988-46f5-9d0e-794295de1f81"
      },
      "execution_count": 2,
      "outputs": [
        {
          "output_type": "stream",
          "name": "stdout",
          "text": [
            "QUICK LEARN\n"
          ]
        }
      ]
    },
    {
      "cell_type": "markdown",
      "source": [
        "**2.without arguments and with return**"
      ],
      "metadata": {
        "id": "twNYZ2qZSR3J"
      }
    },
    {
      "cell_type": "code",
      "source": [
        "def fun2():\n",
        "  string = 'QUICK LEARN'\n",
        "  return string"
      ],
      "metadata": {
        "id": "-42XGu6nSQn3"
      },
      "execution_count": 3,
      "outputs": []
    },
    {
      "cell_type": "code",
      "source": [
        "x = fun2()\n",
        "print(x)"
      ],
      "metadata": {
        "colab": {
          "base_uri": "https://localhost:8080/"
        },
        "id": "GJ_8pjlYSuBd",
        "outputId": "aa825b1a-538e-421b-c11e-147421e0b006"
      },
      "execution_count": 4,
      "outputs": [
        {
          "output_type": "stream",
          "name": "stdout",
          "text": [
            "QUICK LEARN\n"
          ]
        }
      ]
    },
    {
      "cell_type": "markdown",
      "source": [
        "**3.with arguments and without return**"
      ],
      "metadata": {
        "id": "ZchIJwGWS1J4"
      }
    },
    {
      "cell_type": "code",
      "source": [
        "def fun3(s):\n",
        "  print(s)\n"
      ],
      "metadata": {
        "id": "fepxATAfSyaH"
      },
      "execution_count": 5,
      "outputs": []
    },
    {
      "cell_type": "code",
      "source": [
        "x='QUICk LEARN'\n",
        "fun3(x)"
      ],
      "metadata": {
        "colab": {
          "base_uri": "https://localhost:8080/"
        },
        "id": "6bQ2eDkeTFOy",
        "outputId": "2fa48f92-a080-4fdb-b042-adda142f9594"
      },
      "execution_count": 6,
      "outputs": [
        {
          "output_type": "stream",
          "name": "stdout",
          "text": [
            "QUICk LEARN\n"
          ]
        }
      ]
    },
    {
      "cell_type": "markdown",
      "source": [
        "**4.with arguments and with return**"
      ],
      "metadata": {
        "id": "BM6hzEksTR2y"
      }
    },
    {
      "cell_type": "code",
      "source": [
        "def fun4(s):\n",
        "  k = s + ' python'\n",
        "  return k"
      ],
      "metadata": {
        "id": "ZW8ChhOMTQqH"
      },
      "execution_count": 7,
      "outputs": []
    },
    {
      "cell_type": "code",
      "source": [
        "x='QUICK LEARN'\n",
        "y = fun4(x)\n",
        "print(y)"
      ],
      "metadata": {
        "colab": {
          "base_uri": "https://localhost:8080/"
        },
        "id": "ehrwOWxlTpyo",
        "outputId": "aab0e7ca-d4cd-4cde-e8ef-3d24237936a6"
      },
      "execution_count": 8,
      "outputs": [
        {
          "output_type": "stream",
          "name": "stdout",
          "text": [
            "QUICK LEARN python\n"
          ]
        }
      ]
    }
  ]
}