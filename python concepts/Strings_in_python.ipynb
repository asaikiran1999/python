{
  "nbformat": 4,
  "nbformat_minor": 0,
  "metadata": {
    "colab": {
      "name": "Strings_in_python.ipynb",
      "provenance": []
    },
    "kernelspec": {
      "name": "python3",
      "display_name": "Python 3"
    },
    "language_info": {
      "name": "python"
    }
  },
  "cells": [
    {
      "cell_type": "markdown",
      "source": [
        "#**STRINGS**\n"
      ],
      "metadata": {
        "id": "4LqPXJz6h_-Q"
      }
    },
    {
      "cell_type": "markdown",
      "source": [
        "**1.indexing of strings**"
      ],
      "metadata": {
        "id": "AxE4IyIXiGhi"
      }
    },
    {
      "cell_type": "code",
      "execution_count": 6,
      "metadata": {
        "id": "Ti5ZUs8bh3pq"
      },
      "outputs": [],
      "source": [
        "string = \"I love python\""
      ]
    },
    {
      "cell_type": "code",
      "source": [
        "print(string[0])"
      ],
      "metadata": {
        "colab": {
          "base_uri": "https://localhost:8080/"
        },
        "id": "gczsyAppiZhM",
        "outputId": "c58e8543-aac2-4de1-a84e-2152deffc962"
      },
      "execution_count": 7,
      "outputs": [
        {
          "output_type": "stream",
          "name": "stdout",
          "text": [
            "I\n"
          ]
        }
      ]
    },
    {
      "cell_type": "code",
      "source": [
        "print(string[-1])"
      ],
      "metadata": {
        "colab": {
          "base_uri": "https://localhost:8080/"
        },
        "id": "X_DkGL0KigtZ",
        "outputId": "65c5d0d0-39e8-4d2d-c82f-1ea09fb062e4"
      },
      "execution_count": 8,
      "outputs": [
        {
          "output_type": "stream",
          "name": "stdout",
          "text": [
            "n\n"
          ]
        }
      ]
    },
    {
      "cell_type": "code",
      "source": [
        "print(string[5])"
      ],
      "metadata": {
        "colab": {
          "base_uri": "https://localhost:8080/"
        },
        "id": "tnalX8h_iqUZ",
        "outputId": "7476202f-0a4a-4c35-fc9d-238b617f659e"
      },
      "execution_count": 9,
      "outputs": [
        {
          "output_type": "stream",
          "name": "stdout",
          "text": [
            "e\n"
          ]
        }
      ]
    },
    {
      "cell_type": "code",
      "source": [
        "print(string[-4])"
      ],
      "metadata": {
        "colab": {
          "base_uri": "https://localhost:8080/"
        },
        "id": "9zNfhtuui1rH",
        "outputId": "5da0e189-17f2-4149-c4e5-9826a7388e94"
      },
      "execution_count": 11,
      "outputs": [
        {
          "output_type": "stream",
          "name": "stdout",
          "text": [
            "t\n"
          ]
        }
      ]
    },
    {
      "cell_type": "markdown",
      "source": [
        "**2.slicing in string**"
      ],
      "metadata": {
        "id": "W673CVMPjIvJ"
      }
    },
    {
      "cell_type": "code",
      "source": [
        "print(string)\n",
        "print(string[0:])\n",
        "print(string[:13])\n",
        "print(string[2:4])\n",
        "print(string[2:])\n",
        "print(string[:4])\n",
        "print(string[::2])"
      ],
      "metadata": {
        "colab": {
          "base_uri": "https://localhost:8080/"
        },
        "id": "7MbPYNP2i7fA",
        "outputId": "cedfe6b5-f282-4dc7-edce-a3da9d925d01"
      },
      "execution_count": 13,
      "outputs": [
        {
          "output_type": "stream",
          "name": "stdout",
          "text": [
            "I love python\n",
            "I love python\n",
            "I love python\n",
            "lo\n",
            "love python\n",
            "I lo\n",
            "Ilv yhn\n"
          ]
        }
      ]
    },
    {
      "cell_type": "markdown",
      "source": [
        "**3.String methods**"
      ],
      "metadata": {
        "id": "CyeTDOkmkUF4"
      }
    },
    {
      "cell_type": "code",
      "source": [
        "string2 = 'all is well'"
      ],
      "metadata": {
        "id": "Zpj9h5ZhkBfZ"
      },
      "execution_count": 36,
      "outputs": []
    },
    {
      "cell_type": "markdown",
      "source": [
        "**1.upper()**"
      ],
      "metadata": {
        "id": "b9XB-DoOkzlJ"
      }
    },
    {
      "cell_type": "code",
      "source": [
        "print(string2.upper())"
      ],
      "metadata": {
        "colab": {
          "base_uri": "https://localhost:8080/"
        },
        "id": "PTS1NNFSk4tp",
        "outputId": "197eb037-b309-4818-b273-300377761cf1"
      },
      "execution_count": 37,
      "outputs": [
        {
          "output_type": "stream",
          "name": "stdout",
          "text": [
            "ALL IS WELL\n"
          ]
        }
      ]
    },
    {
      "cell_type": "markdown",
      "source": [
        "**2.lower()**"
      ],
      "metadata": {
        "id": "jWYqaH9glAvv"
      }
    },
    {
      "cell_type": "code",
      "source": [
        "print(string2.lower())"
      ],
      "metadata": {
        "colab": {
          "base_uri": "https://localhost:8080/"
        },
        "id": "Dfea_2Y_k81A",
        "outputId": "656c49fa-1730-405a-badb-fc32484e0301"
      },
      "execution_count": 38,
      "outputs": [
        {
          "output_type": "stream",
          "name": "stdout",
          "text": [
            "all is well\n"
          ]
        }
      ]
    },
    {
      "cell_type": "markdown",
      "source": [
        "**3.capitalize()**"
      ],
      "metadata": {
        "id": "r_EIU1hClLL_"
      }
    },
    {
      "cell_type": "code",
      "source": [
        "print(string2.capitalize())"
      ],
      "metadata": {
        "colab": {
          "base_uri": "https://localhost:8080/"
        },
        "id": "wnxOVHXGlJlf",
        "outputId": "3b731d93-cd2b-41f5-a7a4-d68e3182ba0f"
      },
      "execution_count": 39,
      "outputs": [
        {
          "output_type": "stream",
          "name": "stdout",
          "text": [
            "All is well\n"
          ]
        }
      ]
    },
    {
      "cell_type": "markdown",
      "source": [
        "**4.title()**"
      ],
      "metadata": {
        "id": "Mb4_YACkm1Vv"
      }
    },
    {
      "cell_type": "code",
      "source": [
        "print(string2.title())"
      ],
      "metadata": {
        "colab": {
          "base_uri": "https://localhost:8080/"
        },
        "id": "8m0jun24lYHA",
        "outputId": "ca46fb4e-ed66-4da9-e9a3-f757b5129a94"
      },
      "execution_count": 40,
      "outputs": [
        {
          "output_type": "stream",
          "name": "stdout",
          "text": [
            "All Is Well\n"
          ]
        }
      ]
    },
    {
      "cell_type": "markdown",
      "source": [
        "**5.swapcase()**"
      ],
      "metadata": {
        "id": "VVoV0sBOm6he"
      }
    },
    {
      "cell_type": "code",
      "source": [
        "print(string2.swapcase())"
      ],
      "metadata": {
        "colab": {
          "base_uri": "https://localhost:8080/"
        },
        "id": "qfQBvW36ldhY",
        "outputId": "5eb22c34-fe77-4955-be5d-2094de39be36"
      },
      "execution_count": 41,
      "outputs": [
        {
          "output_type": "stream",
          "name": "stdout",
          "text": [
            "ALL IS WELL\n"
          ]
        }
      ]
    },
    {
      "cell_type": "markdown",
      "source": [
        "**6.startswith()**"
      ],
      "metadata": {
        "id": "Cz_inLGtnAM-"
      }
    },
    {
      "cell_type": "code",
      "source": [
        "print(string2.startswith('a'))"
      ],
      "metadata": {
        "colab": {
          "base_uri": "https://localhost:8080/"
        },
        "id": "T7SYjRWZlnJn",
        "outputId": "c8f3e681-1183-42a9-9417-9d8f548a5906"
      },
      "execution_count": 45,
      "outputs": [
        {
          "output_type": "stream",
          "name": "stdout",
          "text": [
            "True\n"
          ]
        }
      ]
    },
    {
      "cell_type": "markdown",
      "source": [
        "**7.endswith()**"
      ],
      "metadata": {
        "id": "IXEM7LbfnIm_"
      }
    },
    {
      "cell_type": "code",
      "source": [
        "print(string2.endswith('ll'))"
      ],
      "metadata": {
        "colab": {
          "base_uri": "https://localhost:8080/"
        },
        "id": "yyogHzFFl_gn",
        "outputId": "aee0c71e-9b4d-4d6d-e9e2-377b5ca0139e"
      },
      "execution_count": 46,
      "outputs": [
        {
          "output_type": "stream",
          "name": "stdout",
          "text": [
            "True\n"
          ]
        }
      ]
    },
    {
      "cell_type": "markdown",
      "source": [
        "**8.find()**"
      ],
      "metadata": {
        "id": "2XZW37TInXKU"
      }
    },
    {
      "cell_type": "code",
      "source": [
        "print(string2.find('e'))"
      ],
      "metadata": {
        "colab": {
          "base_uri": "https://localhost:8080/"
        },
        "id": "8_Bd57kgnTyd",
        "outputId": "e9c13431-0c1f-47a1-ed2b-061cfed444fc"
      },
      "execution_count": 47,
      "outputs": [
        {
          "output_type": "stream",
          "name": "stdout",
          "text": [
            "8\n"
          ]
        }
      ]
    },
    {
      "cell_type": "markdown",
      "source": [
        "**9.count()**"
      ],
      "metadata": {
        "id": "uz0uOBd8n62W"
      }
    },
    {
      "cell_type": "code",
      "source": [
        "print(string2.count('l'))"
      ],
      "metadata": {
        "colab": {
          "base_uri": "https://localhost:8080/"
        },
        "id": "9Vvobsqvn5Ju",
        "outputId": "e675134a-4091-43b6-ceb4-379a08628b55"
      },
      "execution_count": 48,
      "outputs": [
        {
          "output_type": "stream",
          "name": "stdout",
          "text": [
            "4\n"
          ]
        }
      ]
    },
    {
      "cell_type": "markdown",
      "source": [
        "**10.replace()**"
      ],
      "metadata": {
        "id": "IEbgNiVqoGhH"
      }
    },
    {
      "cell_type": "code",
      "source": [
        "print(string2.replace('e','*'))"
      ],
      "metadata": {
        "colab": {
          "base_uri": "https://localhost:8080/"
        },
        "id": "gYilSyMAoDyO",
        "outputId": "f94ba616-418e-47ea-c0bf-9f427e5f7ca9"
      },
      "execution_count": 50,
      "outputs": [
        {
          "output_type": "stream",
          "name": "stdout",
          "text": [
            "all is w*ll\n"
          ]
        }
      ]
    },
    {
      "cell_type": "markdown",
      "source": [
        "**11.strip()**"
      ],
      "metadata": {
        "id": "NCqMnnVjobOF"
      }
    },
    {
      "cell_type": "code",
      "source": [
        "string3 = \"    fbu3uic    \"\n",
        "print(string3)\n",
        "print(string3.strip())"
      ],
      "metadata": {
        "colab": {
          "base_uri": "https://localhost:8080/"
        },
        "id": "tztfO3ayoVkP",
        "outputId": "68c5a0e5-ad93-4463-b304-f3af8c19f56d"
      },
      "execution_count": 51,
      "outputs": [
        {
          "output_type": "stream",
          "name": "stdout",
          "text": [
            "    fbu3uic    \n",
            "fbu3uic\n"
          ]
        }
      ]
    },
    {
      "cell_type": "markdown",
      "source": [
        "**12.split()**"
      ],
      "metadata": {
        "id": "hDbTt93xotqe"
      }
    },
    {
      "cell_type": "code",
      "source": [
        "print(string2.split(' '))"
      ],
      "metadata": {
        "colab": {
          "base_uri": "https://localhost:8080/"
        },
        "id": "LTxxuCbaopk_",
        "outputId": "1502ed3a-ee56-4db4-e57f-308ea513fa02"
      },
      "execution_count": 52,
      "outputs": [
        {
          "output_type": "stream",
          "name": "stdout",
          "text": [
            "['all', 'is', 'well']\n"
          ]
        }
      ]
    },
    {
      "cell_type": "markdown",
      "source": [
        "**13.zfill()**"
      ],
      "metadata": {
        "id": "ia9su8v5o9lm"
      }
    },
    {
      "cell_type": "code",
      "source": [
        "print(string2.zfill(20))"
      ],
      "metadata": {
        "colab": {
          "base_uri": "https://localhost:8080/"
        },
        "id": "bT7QNk8Ao7zu",
        "outputId": "08a549bb-9596-4527-d782-f5b9a8c97551"
      },
      "execution_count": 56,
      "outputs": [
        {
          "output_type": "stream",
          "name": "stdout",
          "text": [
            "000000000all is well\n"
          ]
        }
      ]
    },
    {
      "cell_type": "markdown",
      "source": [
        "**14.join()**"
      ],
      "metadata": {
        "id": "dSFLk5tBpn2o"
      }
    },
    {
      "cell_type": "code",
      "source": [
        "print(''.join([string2,string3]))"
      ],
      "metadata": {
        "colab": {
          "base_uri": "https://localhost:8080/"
        },
        "id": "-ArImYBPpI41",
        "outputId": "90ca1ce2-9c37-4724-ca28-69c95896e934"
      },
      "execution_count": 61,
      "outputs": [
        {
          "output_type": "stream",
          "name": "stdout",
          "text": [
            "all is well    fbu3uic    \n"
          ]
        }
      ]
    },
    {
      "cell_type": "markdown",
      "source": [
        "**15.index()**"
      ],
      "metadata": {
        "id": "S7VwQ-FHqT2g"
      }
    },
    {
      "cell_type": "code",
      "source": [
        "print(string2.index('l'))"
      ],
      "metadata": {
        "colab": {
          "base_uri": "https://localhost:8080/"
        },
        "id": "V3739hbGp3yW",
        "outputId": "3e323cec-13df-4d88-9b56-18860044aa94"
      },
      "execution_count": 62,
      "outputs": [
        {
          "output_type": "stream",
          "name": "stdout",
          "text": [
            "1\n"
          ]
        }
      ]
    }
  ]
}