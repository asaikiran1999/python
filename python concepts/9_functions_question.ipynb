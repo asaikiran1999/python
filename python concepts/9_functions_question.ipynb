{
  "nbformat": 4,
  "nbformat_minor": 0,
  "metadata": {
    "colab": {
      "name": "9.functions_question.ipynb",
      "provenance": []
    },
    "kernelspec": {
      "name": "python3",
      "display_name": "Python 3"
    },
    "language_info": {
      "name": "python"
    }
  },
  "cells": [
    {
      "cell_type": "markdown",
      "source": [
        "**1.create addition function for multiple inputs given as argumrnts**"
      ],
      "metadata": {
        "id": "0QaVu7aRTLQE"
      }
    },
    {
      "cell_type": "markdown",
      "source": [
        "**2. create a function which reverses a given list and prints the joined string of elements of that particular string.**"
      ],
      "metadata": {
        "id": "_WSQgAU0T2FN"
      }
    },
    {
      "cell_type": "markdown",
      "source": [
        "**3.create a function which prints table of given number upto 12 iterations**"
      ],
      "metadata": {
        "id": "dzH_VIqcXOl4"
      }
    },
    {
      "cell_type": "markdown",
      "source": [
        "#**[CLICK HERE](https://github.com/asaikiran1999/python/blob/main/python%20concepts/9_functions_answers.ipynb)** for solutions"
      ],
      "metadata": {
        "id": "_k5F8qLVY_99"
      }
    }
  ]
}