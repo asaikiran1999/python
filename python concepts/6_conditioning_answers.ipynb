{
  "nbformat": 4,
  "nbformat_minor": 0,
  "metadata": {
    "colab": {
      "name": "6.conditioning_answers.ipynb",
      "provenance": []
    },
    "kernelspec": {
      "name": "python3",
      "display_name": "Python 3"
    },
    "language_info": {
      "name": "python"
    }
  },
  "cells": [
    {
      "cell_type": "markdown",
      "source": [
        "**1.Check whether the given string is pallendrome or not.**"
      ],
      "metadata": {
        "id": "ZFz-terau6-f"
      }
    },
    {
      "cell_type": "code",
      "execution_count": 3,
      "metadata": {
        "colab": {
          "base_uri": "https://localhost:8080/"
        },
        "id": "uASunW0bu48u",
        "outputId": "97351422-c94c-47f1-c33b-4c9b01628046"
      },
      "outputs": [
        {
          "output_type": "stream",
          "name": "stdout",
          "text": [
            " enter a string dad\n",
            "dad  is pallendrome\n"
          ]
        }
      ],
      "source": [
        "string1 = input(\" enter a string \")\n",
        "if string1 == string1[::-1]:\n",
        "  print(string1,' is pallendrome')"
      ]
    },
    {
      "cell_type": "markdown",
      "source": [
        "**2.Take name of the month as user input and print no of days in it.**"
      ],
      "metadata": {
        "id": "oFPqYQO-wQDP"
      }
    },
    {
      "cell_type": "markdown",
      "source": [
        "case1"
      ],
      "metadata": {
        "id": "dURzlfmTz87Z"
      }
    },
    {
      "cell_type": "code",
      "source": [
        "month = input(\" enter the month name \").lower()\n",
        "list31 = ['january','march','may','july','august','october','december']\n",
        "list30 = ['april','june','september','november']\n",
        "if month in list31:\n",
        "  print('31 days in ',month)\n",
        "elif month in list30:\n",
        "  print('30 days in ',month)\n",
        "else:\n",
        "  print('28/29 days in ',month)"
      ],
      "metadata": {
        "colab": {
          "base_uri": "https://localhost:8080/"
        },
        "id": "qOr4HHFDvzvO",
        "outputId": "f9db4b61-71e0-44ba-f80c-a8b95e71e556"
      },
      "execution_count": 5,
      "outputs": [
        {
          "output_type": "stream",
          "name": "stdout",
          "text": [
            " enter the month name January\n",
            "31 days in  january\n"
          ]
        }
      ]
    },
    {
      "cell_type": "markdown",
      "source": [
        "case2"
      ],
      "metadata": {
        "id": "cVvDSh0Fz_iO"
      }
    },
    {
      "cell_type": "code",
      "source": [
        "month = input(\" enter the month name \").lower()\n",
        "list31 = ['january','march','may','july','august','october','december']\n",
        "list30 = ['april','june','september','november']\n",
        "if month in list31:\n",
        "  print('31 days in ',month)\n",
        "elif month in list30:\n",
        "  print('30 days in ',month)\n",
        "else:\n",
        "  print('28/29 days in ',month)"
      ],
      "metadata": {
        "colab": {
          "base_uri": "https://localhost:8080/"
        },
        "id": "hVTRFV9pyicH",
        "outputId": "3d5f9fdf-5d40-4e94-8ed2-c879853c1378"
      },
      "execution_count": 6,
      "outputs": [
        {
          "output_type": "stream",
          "name": "stdout",
          "text": [
            " enter the month name FEBRUARY\n",
            "28/29 days in  february\n"
          ]
        }
      ]
    },
    {
      "cell_type": "markdown",
      "source": [
        "case3"
      ],
      "metadata": {
        "id": "4AsVeMey0C7d"
      }
    },
    {
      "cell_type": "code",
      "source": [
        "month = input(\" enter the month name \").lower()\n",
        "list31 = ['january','march','may','july','august','october','december']\n",
        "list30 = ['april','june','september','november']\n",
        "if month in list31:\n",
        "  print('31 days in ',month)\n",
        "elif month in list30:\n",
        "  print('30 days in ',month)\n",
        "else:\n",
        "  print('28/29 days in ',month)"
      ],
      "metadata": {
        "colab": {
          "base_uri": "https://localhost:8080/"
        },
        "id": "VrbmHG8Vyva2",
        "outputId": "377ebbef-7fcc-47ae-cd44-b61a537c4d09"
      },
      "execution_count": 7,
      "outputs": [
        {
          "output_type": "stream",
          "name": "stdout",
          "text": [
            " enter the month name ApRIL\n",
            "30 days in  april\n"
          ]
        }
      ]
    },
    {
      "cell_type": "markdown",
      "source": [
        "**3.Check whether the user input is less than 10 or not**\n",
        "\n",
        "**if it is less than 10, check if it is odd or even**\n",
        "\n",
        "**if it is odd print that number multiplied by 2**\n",
        "\n",
        "**if it is even print that number divided by 2**"
      ],
      "metadata": {
        "id": "ixpEp6zxzK-m"
      }
    },
    {
      "cell_type": "markdown",
      "source": [
        "case1"
      ],
      "metadata": {
        "id": "GFTghxLQ0ZrV"
      }
    },
    {
      "cell_type": "code",
      "source": [
        "x = int(input('Enter number '))\n",
        "if x<10:\n",
        "  if x%2==0:\n",
        "    print(x/2)\n",
        "  else:\n",
        "    print(x*2)\n",
        "else:\n",
        "  print(x,' is greater than 10')"
      ],
      "metadata": {
        "colab": {
          "base_uri": "https://localhost:8080/"
        },
        "id": "BgU4jWC1zEjd",
        "outputId": "e0a2d305-453d-4c96-efe7-2c32612200eb"
      },
      "execution_count": 11,
      "outputs": [
        {
          "output_type": "stream",
          "name": "stdout",
          "text": [
            "Enter number 7\n",
            "14\n"
          ]
        }
      ]
    },
    {
      "cell_type": "markdown",
      "source": [
        "case2"
      ],
      "metadata": {
        "id": "cBmKuroc0vf3"
      }
    },
    {
      "cell_type": "code",
      "source": [
        "x = int(input('Enter number '))\n",
        "if x<10:\n",
        "  if x%2==0:\n",
        "    print(x/2)\n",
        "  else:\n",
        "    print(x*2)\n",
        "else:\n",
        "  print(x,' is greater than 10')"
      ],
      "metadata": {
        "colab": {
          "base_uri": "https://localhost:8080/"
        },
        "id": "DIJBueW80WXW",
        "outputId": "ccd052f7-d7f8-4258-80c1-cb1dff5f73de"
      },
      "execution_count": 12,
      "outputs": [
        {
          "output_type": "stream",
          "name": "stdout",
          "text": [
            "Enter number 6\n",
            "3.0\n"
          ]
        }
      ]
    },
    {
      "cell_type": "markdown",
      "source": [
        "case3"
      ],
      "metadata": {
        "id": "EMzFS_w-0tZ9"
      }
    },
    {
      "cell_type": "code",
      "source": [
        "x = int(input('Enter number '))\n",
        "if x<10:\n",
        "  if x%2==0:\n",
        "    print(x/2)\n",
        "  else:\n",
        "    print(x*2)\n",
        "else:\n",
        "  print(x,' is greater than 10')"
      ],
      "metadata": {
        "colab": {
          "base_uri": "https://localhost:8080/"
        },
        "id": "tGUqSiym0o9f",
        "outputId": "90f5f815-c4b6-4046-84c6-74e32d1fa7f6"
      },
      "execution_count": 13,
      "outputs": [
        {
          "output_type": "stream",
          "name": "stdout",
          "text": [
            "Enter number 90\n",
            "90  is greater than 10\n"
          ]
        }
      ]
    },
    {
      "cell_type": "code",
      "source": [
        ""
      ],
      "metadata": {
        "id": "lprmFvnc1QsN"
      },
      "execution_count": null,
      "outputs": []
    }
  ]
}