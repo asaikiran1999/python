{
  "nbformat": 4,
  "nbformat_minor": 0,
  "metadata": {
    "colab": {
      "provenance": []
    },
    "kernelspec": {
      "name": "python3",
      "display_name": "Python 3"
    },
    "language_info": {
      "name": "python"
    }
  },
  "cells": [
    {
      "cell_type": "markdown",
      "source": [
        "#Iterator"
      ],
      "metadata": {
        "id": "ejNgaPeSAX1P"
      }
    },
    {
      "cell_type": "markdown",
      "source": [
        "1.Generating iterators"
      ],
      "metadata": {
        "id": "TnfA3c-4AdIq"
      }
    },
    {
      "cell_type": "code",
      "execution_count": 1,
      "metadata": {
        "id": "wuhwTaUZAQAB"
      },
      "outputs": [],
      "source": [
        "list1 = [ 1,2,3,4]\n",
        "iterable = iter(list1)"
      ]
    },
    {
      "cell_type": "markdown",
      "source": [
        "2.calling the iterators"
      ],
      "metadata": {
        "id": "6a67y4exA9GD"
      }
    },
    {
      "cell_type": "code",
      "source": [
        "next(iterable)"
      ],
      "metadata": {
        "colab": {
          "base_uri": "https://localhost:8080/"
        },
        "id": "FJMzeSzNBBZD",
        "outputId": "8d23521d-829b-4e05-ad1b-ad673cb83cee"
      },
      "execution_count": 2,
      "outputs": [
        {
          "output_type": "execute_result",
          "data": {
            "text/plain": [
              "1"
            ]
          },
          "metadata": {},
          "execution_count": 2
        }
      ]
    },
    {
      "cell_type": "markdown",
      "source": [
        "#Generator"
      ],
      "metadata": {
        "id": "VYKOXbPSBP0_"
      }
    },
    {
      "cell_type": "markdown",
      "source": [
        "1.generating a generator"
      ],
      "metadata": {
        "id": "7RV7zjyVBUTI"
      }
    },
    {
      "cell_type": "code",
      "source": [
        "def square(n):\n",
        "  for i in range(n):\n",
        "    yield i**2"
      ],
      "metadata": {
        "id": "xK7_8I2bBNvW"
      },
      "execution_count": 9,
      "outputs": []
    },
    {
      "cell_type": "code",
      "source": [
        "generator1 = square(3)"
      ],
      "metadata": {
        "id": "XvNIAxPrBpyW"
      },
      "execution_count": 10,
      "outputs": []
    },
    {
      "cell_type": "markdown",
      "source": [
        "2.calling a generator"
      ],
      "metadata": {
        "id": "Cdq4kWR_B_rr"
      }
    },
    {
      "cell_type": "code",
      "source": [
        "next(generator1)"
      ],
      "metadata": {
        "colab": {
          "base_uri": "https://localhost:8080/"
        },
        "id": "VlHuJFiABwr9",
        "outputId": "0faeebb3-ad59-442e-f370-37bb5ff24a09"
      },
      "execution_count": 11,
      "outputs": [
        {
          "output_type": "execute_result",
          "data": {
            "text/plain": [
              "0"
            ]
          },
          "metadata": {},
          "execution_count": 11
        }
      ]
    },
    {
      "cell_type": "code",
      "source": [],
      "metadata": {
        "id": "puAjp3q4B0k-"
      },
      "execution_count": null,
      "outputs": []
    }
  ]
}