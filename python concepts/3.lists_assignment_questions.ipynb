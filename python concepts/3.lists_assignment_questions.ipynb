{
  "nbformat": 4,
  "nbformat_minor": 0,
  "metadata": {
    "colab": {
      "name": "lists_assignment_questions.ipynb",
      "provenance": []
    },
    "kernelspec": {
      "name": "python3",
      "display_name": "Python 3"
    },
    "language_info": {
      "name": "python"
    }
  },
  "cells": [
    {
      "cell_type": "markdown",
      "source": [
        "**1.Create a dictionary \"{1:'a',2:'b',3:'c'}\" convert the keys and values into seperate list and combine the two lists into a single list as \"[1,a,1,2,b,3,c]\"** "
      ],
      "metadata": {
        "id": "hdg9SIBnV6Q3"
      }
    },
    {
      "cell_type": "markdown",
      "source": [
        "**2.what is the difference between extend and append.**"
      ],
      "metadata": {
        "id": "8adKj-4VYj3A"
      }
    },
    {
      "cell_type": "markdown",
      "source": [
        "**3.Take \"12345\" as a string and convert it to \"1-2-3-4-5\" using split and join concepts.**"
      ],
      "metadata": {
        "id": "IKBdILljZ4lm"
      }
    },
    {
      "cell_type": "markdown",
      "source": [
        "**4.Take the list \"[0,1,2,3,4]\" find index of 1 in the given list then insert 2 after it.**"
      ],
      "metadata": {
        "id": "LJn_tDW9axbv"
      }
    },
    {
      "cell_type": "markdown",
      "source": [
        "**5.Use the range function and convert that range into list and then make the elements in the string repeat three times**"
      ],
      "metadata": {
        "id": "My3T3xM4bvo9"
      }
    },
    {
      "cell_type": "markdown",
      "source": [
        "#**[CLICK HERE](https://github.com/asaikiran1999/python/blob/main/python%20concepts/3.lists_assignment_solution.ipynb)**  for solutions"
      ],
      "metadata": {
        "id": "fMFSIPhGdFqH"
      }
    }
  ]
}