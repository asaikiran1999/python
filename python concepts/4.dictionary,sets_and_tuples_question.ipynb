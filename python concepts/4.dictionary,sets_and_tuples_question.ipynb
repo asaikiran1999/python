{
  "nbformat": 4,
  "nbformat_minor": 0,
  "metadata": {
    "colab": {
      "name": "dictionary,sets and tuples_question.ipynb",
      "provenance": []
    },
    "kernelspec": {
      "name": "python3",
      "display_name": "Python 3"
    },
    "language_info": {
      "name": "python"
    }
  },
  "cells": [
    {
      "cell_type": "markdown",
      "source": [
        "**1. Build library as dictionary with keys as book id and values as book name.\n",
        "then\n",
        "print**\n",
        "\n",
        "\"1.Add book\"\n",
        "\n",
        "\"2.delete book\"\n",
        "\n",
        "\n",
        "**Take input from user and if 1 is given add a book into dictionary,if 2 is given delete last book in library and then print library** "
      ],
      "metadata": {
        "id": "A93df6x8iEQ-"
      }
    },
    {
      "cell_type": "markdown",
      "source": [
        "**2.Take list from the user with duplicate values and convert it into tuple,print unique values in the tuple.**"
      ],
      "metadata": {
        "id": "v1fNooKxwzPJ"
      }
    },
    {
      "cell_type": "markdown",
      "source": [
        "#**[CLICK HERE](https://github.com/asaikiran1999/python/blob/main/python%20concepts/4.dictionary%2Csets_and_tuples_solutions.ipynb)** for solutions"
      ],
      "metadata": {
        "id": "-BVFgZjMy8P6"
      }
    },
    {
      "cell_type": "code",
      "source": [
        ""
      ],
      "metadata": {
        "id": "9WZYxPd2zGei"
      },
      "execution_count": null,
      "outputs": []
    }
  ]
}