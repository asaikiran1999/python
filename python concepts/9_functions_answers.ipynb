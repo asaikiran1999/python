{
  "nbformat": 4,
  "nbformat_minor": 0,
  "metadata": {
    "colab": {
      "name": "9.functions_answers.ipynb",
      "provenance": []
    },
    "kernelspec": {
      "name": "python3",
      "display_name": "Python 3"
    },
    "language_info": {
      "name": "python"
    }
  },
  "cells": [
    {
      "cell_type": "markdown",
      "source": [
        "**1.create addition function for multiple inputs given as argumrnts**"
      ],
      "metadata": {
        "id": "0QaVu7aRTLQE"
      }
    },
    {
      "cell_type": "code",
      "execution_count": 1,
      "metadata": {
        "id": "7p-bRGMuTDx8"
      },
      "outputs": [],
      "source": [
        "def add(*a):\n",
        "  x= sum(a)\n",
        "  print(x)"
      ]
    },
    {
      "cell_type": "code",
      "source": [
        "add(1,2,3)"
      ],
      "metadata": {
        "colab": {
          "base_uri": "https://localhost:8080/"
        },
        "id": "TNxKjgLgTrfm",
        "outputId": "1acb0bb2-081f-4c94-912e-e6e1faad5dba"
      },
      "execution_count": 2,
      "outputs": [
        {
          "output_type": "stream",
          "name": "stdout",
          "text": [
            "6\n"
          ]
        }
      ]
    },
    {
      "cell_type": "markdown",
      "source": [
        "**2. create a function which reverses a given list and prints the joined string of elements of that particular string.**"
      ],
      "metadata": {
        "id": "_WSQgAU0T2FN"
      }
    },
    {
      "cell_type": "code",
      "source": [
        "def reverse_print(list1):\n",
        "  list1.reverse()\n",
        "  for i in range(0,len(list1)):\n",
        "    list1[i] = str(list1[i])\n",
        "  x=''.join(list1)\n",
        "  print(x)"
      ],
      "metadata": {
        "id": "zxuumth3UR3r"
      },
      "execution_count": 15,
      "outputs": []
    },
    {
      "cell_type": "code",
      "source": [
        "list1 = [1,2,3,4,5]\n",
        "reverse_print(list1)"
      ],
      "metadata": {
        "colab": {
          "base_uri": "https://localhost:8080/"
        },
        "id": "VAhp4dptUhtd",
        "outputId": "540b5cbf-94db-48aa-90cf-7016e56c584d"
      },
      "execution_count": 16,
      "outputs": [
        {
          "output_type": "stream",
          "name": "stdout",
          "text": [
            "54321\n"
          ]
        }
      ]
    },
    {
      "cell_type": "markdown",
      "source": [
        "**3.create a function which prints table of given number upto 12 iterations**"
      ],
      "metadata": {
        "id": "dzH_VIqcXOl4"
      }
    },
    {
      "cell_type": "code",
      "source": [
        "def table_fun(a):\n",
        "  for i in range(1,13):\n",
        "    print(a,\"x\",i,\"=\",i*a)\n"
      ],
      "metadata": {
        "id": "Viw8CL1MU7C1"
      },
      "execution_count": 18,
      "outputs": []
    },
    {
      "cell_type": "code",
      "source": [
        "table_fun(8)"
      ],
      "metadata": {
        "colab": {
          "base_uri": "https://localhost:8080/"
        },
        "id": "v00jtMPgX543",
        "outputId": "6f9a67a6-dcb2-43f3-bfbf-ad82dd580111"
      },
      "execution_count": 19,
      "outputs": [
        {
          "output_type": "stream",
          "name": "stdout",
          "text": [
            "8 x 1 = 8\n",
            "8 x 2 = 16\n",
            "8 x 3 = 24\n",
            "8 x 4 = 32\n",
            "8 x 5 = 40\n",
            "8 x 6 = 48\n",
            "8 x 7 = 56\n",
            "8 x 8 = 64\n",
            "8 x 9 = 72\n",
            "8 x 10 = 80\n",
            "8 x 11 = 88\n",
            "8 x 12 = 96\n"
          ]
        }
      ]
    }
  ]
}