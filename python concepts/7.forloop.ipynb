{
  "nbformat": 4,
  "nbformat_minor": 0,
  "metadata": {
    "colab": {
      "name": "forloop.ipynb",
      "provenance": []
    },
    "kernelspec": {
      "name": "python3",
      "display_name": "Python 3"
    },
    "language_info": {
      "name": "python"
    }
  },
  "cells": [
    {
      "cell_type": "markdown",
      "source": [
        "#**FOR LOOP**"
      ],
      "metadata": {
        "id": "4bm4NDtMBo3l"
      }
    },
    {
      "cell_type": "markdown",
      "source": [
        "**1.range**"
      ],
      "metadata": {
        "id": "cqKd0X1jBumi"
      }
    },
    {
      "cell_type": "code",
      "execution_count": 2,
      "metadata": {
        "id": "FTogTywUBfs2"
      },
      "outputs": [],
      "source": [
        "range1= range(10)"
      ]
    },
    {
      "cell_type": "code",
      "source": [
        "print(range1)"
      ],
      "metadata": {
        "colab": {
          "base_uri": "https://localhost:8080/"
        },
        "id": "LjUGWepWBkIE",
        "outputId": "993942a7-7c53-4e17-a9f7-46491c6da159"
      },
      "execution_count": 3,
      "outputs": [
        {
          "output_type": "stream",
          "name": "stdout",
          "text": [
            "range(0, 10)\n"
          ]
        }
      ]
    },
    {
      "cell_type": "markdown",
      "source": [
        "**2.for loop for range** "
      ],
      "metadata": {
        "id": "G_gqLOmpB5v8"
      }
    },
    {
      "cell_type": "code",
      "source": [
        "for i in range(10):\n",
        "  print(i)"
      ],
      "metadata": {
        "colab": {
          "base_uri": "https://localhost:8080/"
        },
        "id": "1vXl03D6B4IK",
        "outputId": "3547024a-e156-4e24-c284-92ea9e7c8c1d"
      },
      "execution_count": 4,
      "outputs": [
        {
          "output_type": "stream",
          "name": "stdout",
          "text": [
            "0\n",
            "1\n",
            "2\n",
            "3\n",
            "4\n",
            "5\n",
            "6\n",
            "7\n",
            "8\n",
            "9\n"
          ]
        }
      ]
    },
    {
      "cell_type": "markdown",
      "source": [
        "**3.for loop for range with step**"
      ],
      "metadata": {
        "id": "hhNjcuckCMpy"
      }
    },
    {
      "cell_type": "code",
      "source": [
        "for i in range(0,10,2):\n",
        "  print(i)"
      ],
      "metadata": {
        "colab": {
          "base_uri": "https://localhost:8080/"
        },
        "id": "ufQUVmdhCKv0",
        "outputId": "74b80827-e76d-4d65-9de8-80989da523bb"
      },
      "execution_count": 5,
      "outputs": [
        {
          "output_type": "stream",
          "name": "stdout",
          "text": [
            "0\n",
            "2\n",
            "4\n",
            "6\n",
            "8\n"
          ]
        }
      ]
    },
    {
      "cell_type": "markdown",
      "source": [
        "**4.for loop for acessing list**"
      ],
      "metadata": {
        "id": "Cu8smTxiCk2z"
      }
    },
    {
      "cell_type": "code",
      "source": [
        "list1 = [1,5,8]\n",
        "for i in list1:\n",
        "  print(i)"
      ],
      "metadata": {
        "colab": {
          "base_uri": "https://localhost:8080/"
        },
        "id": "KVTm44c0ChzD",
        "outputId": "b5a1583a-a1bc-49d6-dae5-b60e95922e56"
      },
      "execution_count": 7,
      "outputs": [
        {
          "output_type": "stream",
          "name": "stdout",
          "text": [
            "1\n",
            "5\n",
            "8\n"
          ]
        }
      ]
    },
    {
      "cell_type": "markdown",
      "source": [
        "**5.for loop for set**"
      ],
      "metadata": {
        "id": "OJiK15_4DAD7"
      }
    },
    {
      "cell_type": "code",
      "source": [
        "set1 = {1,3,4}\n",
        "for i in set1:\n",
        "  print(i)"
      ],
      "metadata": {
        "colab": {
          "base_uri": "https://localhost:8080/"
        },
        "id": "U-w9rHCrC42U",
        "outputId": "96edf71a-6ebf-476d-86b3-dc75c2ed9b8f"
      },
      "execution_count": 8,
      "outputs": [
        {
          "output_type": "stream",
          "name": "stdout",
          "text": [
            "1\n",
            "3\n",
            "4\n"
          ]
        }
      ]
    },
    {
      "cell_type": "markdown",
      "source": [
        "**6.for loop for tuple**"
      ],
      "metadata": {
        "id": "ASg_UwanDRvj"
      }
    },
    {
      "cell_type": "code",
      "source": [
        "tuple1 = (1,4,3,2)\n",
        "for i in tuple1:\n",
        "  print(i)"
      ],
      "metadata": {
        "colab": {
          "base_uri": "https://localhost:8080/"
        },
        "id": "2KitYRpRDP_c",
        "outputId": "790f2b37-5f97-43c6-abaf-1ffd679cae80"
      },
      "execution_count": 11,
      "outputs": [
        {
          "output_type": "stream",
          "name": "stdout",
          "text": [
            "1\n",
            "4\n",
            "3\n",
            "2\n"
          ]
        }
      ]
    },
    {
      "cell_type": "markdown",
      "source": [
        "**7.for loop without parameter**"
      ],
      "metadata": {
        "id": "NW_cfC4DDk1V"
      }
    },
    {
      "cell_type": "code",
      "source": [
        "for _ in range(3):\n",
        "  print(\"QUICK LEARN\")"
      ],
      "metadata": {
        "colab": {
          "base_uri": "https://localhost:8080/"
        },
        "id": "OYZNlZabDeRC",
        "outputId": "f1211bb3-93e6-41fa-bc88-714f8edab1bb"
      },
      "execution_count": 12,
      "outputs": [
        {
          "output_type": "stream",
          "name": "stdout",
          "text": [
            "QUICK LEARN\n",
            "QUICK LEARN\n",
            "QUICK LEARN\n"
          ]
        }
      ]
    },
    {
      "cell_type": "markdown",
      "source": [
        "**8.nested for loop**"
      ],
      "metadata": {
        "id": "MPgcb3F7EAq0"
      }
    },
    {
      "cell_type": "code",
      "source": [
        "for i in range(10):\n",
        "  for j in range(5):\n",
        "    print(i ,\"X\", j ,\"=\",j*i, end = '\\t')"
      ],
      "metadata": {
        "colab": {
          "base_uri": "https://localhost:8080/"
        },
        "id": "cqjI3zRhD-4-",
        "outputId": "0ecd015b-4724-4b5f-8dae-18d8bd50ba8a"
      },
      "execution_count": 20,
      "outputs": [
        {
          "output_type": "stream",
          "name": "stdout",
          "text": [
            "0 X 0 = 0\t0 X 1 = 0\t0 X 2 = 0\t0 X 3 = 0\t0 X 4 = 0\t1 X 0 = 0\t1 X 1 = 1\t1 X 2 = 2\t1 X 3 = 3\t1 X 4 = 4\t2 X 0 = 0\t2 X 1 = 2\t2 X 2 = 4\t2 X 3 = 6\t2 X 4 = 8\t3 X 0 = 0\t3 X 1 = 3\t3 X 2 = 6\t3 X 3 = 9\t3 X 4 = 12\t4 X 0 = 0\t4 X 1 = 4\t4 X 2 = 8\t4 X 3 = 12\t4 X 4 = 16\t5 X 0 = 0\t5 X 1 = 5\t5 X 2 = 10\t5 X 3 = 15\t5 X 4 = 20\t6 X 0 = 0\t6 X 1 = 6\t6 X 2 = 12\t6 X 3 = 18\t6 X 4 = 24\t7 X 0 = 0\t7 X 1 = 7\t7 X 2 = 14\t7 X 3 = 21\t7 X 4 = 28\t8 X 0 = 0\t8 X 1 = 8\t8 X 2 = 16\t8 X 3 = 24\t8 X 4 = 32\t9 X 0 = 0\t9 X 1 = 9\t9 X 2 = 18\t9 X 3 = 27\t9 X 4 = 36\t"
          ]
        }
      ]
    },
    {
      "cell_type": "code",
      "source": [
        ""
      ],
      "metadata": {
        "id": "ogVXDUByEcYs"
      },
      "execution_count": null,
      "outputs": []
    }
  ]
}