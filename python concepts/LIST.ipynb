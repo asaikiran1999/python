{
  "nbformat": 4,
  "nbformat_minor": 0,
  "metadata": {
    "colab": {
      "name": "LIST.ipynb",
      "provenance": []
    },
    "kernelspec": {
      "name": "python3",
      "display_name": "Python 3"
    },
    "language_info": {
      "name": "python"
    }
  },
  "cells": [
    {
      "cell_type": "markdown",
      "source": [
        "#**LIST**\n",
        "**List is a datatype in python which can contain different datatypes listed in it given indexes**\n"
      ],
      "metadata": {
        "id": "CMKW-FwIOITC"
      }
    },
    {
      "cell_type": "markdown",
      "source": [
        "1.**Creation** and **usage** of list  "
      ],
      "metadata": {
        "id": "mcn3f7M_PTFo"
      }
    },
    {
      "cell_type": "markdown",
      "source": [
        "Creation of **Empty list** in two ways"
      ],
      "metadata": {
        "id": "KuVUKWXPPkDd"
      }
    },
    {
      "cell_type": "code",
      "execution_count": null,
      "metadata": {
        "colab": {
          "base_uri": "https://localhost:8080/"
        },
        "id": "oIsPHTTBOE3t",
        "outputId": "bd1d59cf-af9d-40a2-ee02-95acd8c0c1b7"
      },
      "outputs": [
        {
          "output_type": "stream",
          "name": "stdout",
          "text": [
            "list1 contain  []\n",
            "list2 contain  []\n"
          ]
        }
      ],
      "source": [
        "list1 = []     #1st way of creating empty list \n",
        "list2 = list() #another way\n",
        "print(\"list1 contain \",list1)\n",
        "print(\"list2 contain \",list2)"
      ]
    },
    {
      "cell_type": "markdown",
      "source": [
        "creating a **nested list**"
      ],
      "metadata": {
        "id": "b5P033zAQa3-"
      }
    },
    {
      "cell_type": "code",
      "source": [
        "list1 = [1,2,3,4]\n",
        "list2 = [5,6,7,8]\n",
        "list3 = [list1,list2]\n",
        "print(\"list1 is\",list1)\n",
        "print(\"list2 is\",list2)\n",
        "print(\"list3 i.e combination of list1 and list2 is\",list3)"
      ],
      "metadata": {
        "colab": {
          "base_uri": "https://localhost:8080/"
        },
        "id": "O_B7J0xxQGsk",
        "outputId": "db183adc-ad8a-4bc5-89bc-df7758f723cb"
      },
      "execution_count": null,
      "outputs": [
        {
          "output_type": "stream",
          "name": "stdout",
          "text": [
            "list1 is [1, 2, 3, 4]\n",
            "list2 is [5, 6, 7, 8]\n",
            "list3 i.e combination of list1 and list2 is [[1, 2, 3, 4], [5, 6, 7, 8]]\n"
          ]
        }
      ]
    },
    {
      "cell_type": "markdown",
      "source": [
        "**LIST COMPREHENSION**"
      ],
      "metadata": {
        "id": "S1Ax3cFORe-l"
      }
    },
    {
      "cell_type": "markdown",
      "source": [
        "1.**List comprehension** offers a shorter syntax when you want to create a new list based on the values of an existing list"
      ],
      "metadata": {
        "id": "k58Ryn21Rmi8"
      }
    },
    {
      "cell_type": "markdown",
      "source": [
        "First we know about **range**."
      ],
      "metadata": {
        "id": "x0I4jjX9R-CE"
      }
    },
    {
      "cell_type": "code",
      "source": [
        "list1=list(range(5))\n",
        "print(list1)"
      ],
      "metadata": {
        "colab": {
          "base_uri": "https://localhost:8080/"
        },
        "id": "vbmynx1GRLjl",
        "outputId": "8362a936-3897-4a91-8489-b2d15ff2851c"
      },
      "execution_count": null,
      "outputs": [
        {
          "output_type": "stream",
          "name": "stdout",
          "text": [
            "[0, 1, 2, 3, 4]\n"
          ]
        }
      ]
    },
    {
      "cell_type": "markdown",
      "source": [
        "Doubling every element in list1 using list comprehension"
      ],
      "metadata": {
        "id": "ht47I_4ISq59"
      }
    },
    {
      "cell_type": "code",
      "source": [
        "list2 =[i*2 for i in list1]\n",
        "print(list2)"
      ],
      "metadata": {
        "colab": {
          "base_uri": "https://localhost:8080/"
        },
        "id": "djJ23wYYShqF",
        "outputId": "135890e9-621e-4c36-ed11-62bbfc844b9b"
      },
      "execution_count": null,
      "outputs": [
        {
          "output_type": "stream",
          "name": "stdout",
          "text": [
            "[0, 2, 4, 6, 8]\n"
          ]
        }
      ]
    },
    {
      "cell_type": "markdown",
      "source": [
        "filtering elements only divisible by 2"
      ],
      "metadata": {
        "id": "Qi53GgACTICy"
      }
    },
    {
      "cell_type": "code",
      "source": [
        "list2 = [i for i in list1 if i%2==0]\n",
        "print(list2)"
      ],
      "metadata": {
        "colab": {
          "base_uri": "https://localhost:8080/"
        },
        "id": "QX7WWz57S_-_",
        "outputId": "3f26fc69-390a-42f4-f41b-ca38ce1751eb"
      },
      "execution_count": null,
      "outputs": [
        {
          "output_type": "stream",
          "name": "stdout",
          "text": [
            "[0, 2, 4]\n"
          ]
        }
      ]
    },
    {
      "cell_type": "markdown",
      "source": [
        "**STRINGS AND LISTS**"
      ],
      "metadata": {
        "id": "_k_jyPHgUJwM"
      }
    },
    {
      "cell_type": "markdown",
      "source": [
        "Converting a **string into list**"
      ],
      "metadata": {
        "id": "0gB2CdS3VDMe"
      }
    },
    {
      "cell_type": "code",
      "source": [
        "string='123456789'\n",
        "list1 = list(string)\n",
        "print(list1)"
      ],
      "metadata": {
        "colab": {
          "base_uri": "https://localhost:8080/"
        },
        "id": "hvIj9BDjTzD1",
        "outputId": "44f0db77-f0ea-44a0-dffd-6e630f6cb6ef"
      },
      "execution_count": null,
      "outputs": [
        {
          "output_type": "stream",
          "name": "stdout",
          "text": [
            "['1', '2', '3', '4', '5', '6', '7', '8', '9']\n"
          ]
        }
      ]
    },
    {
      "cell_type": "markdown",
      "source": [
        "Converting a **list into string**"
      ],
      "metadata": {
        "id": "6bH2jzGPVfah"
      }
    },
    {
      "cell_type": "code",
      "source": [
        "string1=''.join(list1)#join helps us to convert list into a single string\n",
        "print(string1)"
      ],
      "metadata": {
        "colab": {
          "base_uri": "https://localhost:8080/"
        },
        "id": "maiChwecVZDJ",
        "outputId": "c9d0ea48-d60d-4bae-ac26-016e06db56fc"
      },
      "execution_count": null,
      "outputs": [
        {
          "output_type": "stream",
          "name": "stdout",
          "text": [
            "123456789\n"
          ]
        }
      ]
    },
    {
      "cell_type": "markdown",
      "source": [
        "Converting string int list using **Split**"
      ],
      "metadata": {
        "id": "S9GhGzwlWEd0"
      }
    },
    {
      "cell_type": "code",
      "source": [
        "string2='1,2,3,4,5'\n",
        "list2=string2.split(',')\n",
        "print(list2)"
      ],
      "metadata": {
        "colab": {
          "base_uri": "https://localhost:8080/"
        },
        "id": "9DTAi1pLVwaa",
        "outputId": "3d267260-3792-45ad-d58d-c157ebd30a5f"
      },
      "execution_count": null,
      "outputs": [
        {
          "output_type": "stream",
          "name": "stdout",
          "text": [
            "['1', '2', '3', '4', '5']\n"
          ]
        }
      ]
    },
    {
      "cell_type": "markdown",
      "source": [
        "**DICTIONARY AND LIST**"
      ],
      "metadata": {
        "id": "xnDzTGhPW2Kd"
      }
    },
    {
      "cell_type": "markdown",
      "source": [
        "Converting dictionary **keys and values** into list"
      ],
      "metadata": {
        "id": "IM_7lhobXB1q"
      }
    },
    {
      "cell_type": "code",
      "source": [
        "dict1 = {1:'a',2:'b',3:'c'}\n",
        "list1 = list(dict1.keys())\n",
        "print(\"keys in dictionary are:\",list1)\n",
        "list2 = list(dict1.values())\n",
        "print(\"values in dictionary are:\",list2)"
      ],
      "metadata": {
        "colab": {
          "base_uri": "https://localhost:8080/"
        },
        "id": "uxDm78toWmWk",
        "outputId": "844223f9-f4ea-400f-d31a-f8a5957f92a5"
      },
      "execution_count": null,
      "outputs": [
        {
          "output_type": "stream",
          "name": "stdout",
          "text": [
            "keys in dictionary are: [1, 2, 3]\n",
            "values in dictionary are: ['a', 'b', 'c']\n"
          ]
        }
      ]
    },
    {
      "cell_type": "markdown",
      "source": [
        "#**BUILDIN FUNCTIONS IN LIST**"
      ],
      "metadata": {
        "id": "Vofdtp3aYIUT"
      }
    },
    {
      "cell_type": "markdown",
      "source": [
        "**1.append()**"
      ],
      "metadata": {
        "id": "O7SQyFv0jhZd"
      }
    },
    {
      "cell_type": "code",
      "source": [
        "list1 = list(range(5))\n",
        "print(\"before appending : \",list1)\n",
        "list1.append(5)\n",
        "print(\"after appending : \",list1)"
      ],
      "metadata": {
        "id": "_I3ZP2vFXpQt",
        "colab": {
          "base_uri": "https://localhost:8080/"
        },
        "outputId": "fea1690f-6706-4da8-8d8d-919266a2d6c7"
      },
      "execution_count": 2,
      "outputs": [
        {
          "output_type": "stream",
          "name": "stdout",
          "text": [
            "before appending :  [0, 1, 2, 3, 4]\n",
            "after appending :  [0, 1, 2, 3, 4, 5]\n"
          ]
        }
      ]
    },
    {
      "cell_type": "markdown",
      "source": [
        "**2.extend()**"
      ],
      "metadata": {
        "id": "W201e4udkINS"
      }
    },
    {
      "cell_type": "code",
      "source": [
        "list1=list(range(5))\n",
        "list2=list(range(5,10))\n",
        "print(\"list1 is : \",list1)\n",
        "print(\"list2 is : \",list2)\n",
        "list1.extend(list2)\n",
        "print(\"list1 after extending : \",list1)"
      ],
      "metadata": {
        "colab": {
          "base_uri": "https://localhost:8080/"
        },
        "id": "MdkFU3UbkD_W",
        "outputId": "a8e48e70-8446-4723-e488-bbbbdfe8a7ae"
      },
      "execution_count": 3,
      "outputs": [
        {
          "output_type": "stream",
          "name": "stdout",
          "text": [
            "list1 is :  [0, 1, 2, 3, 4]\n",
            "list2 is :  [5, 6, 7, 8, 9]\n",
            "list1 after extending :  [0, 1, 2, 3, 4, 5, 6, 7, 8, 9]\n"
          ]
        }
      ]
    },
    {
      "cell_type": "markdown",
      "source": [
        "**3.insert()**"
      ],
      "metadata": {
        "id": "HMIiWPMVkyei"
      }
    },
    {
      "cell_type": "code",
      "source": [
        "list1=list(range(5))\n",
        "print(\"list1 is : \",list1)\n",
        "#inserting \"a\" in 3rd position\n",
        "list1.insert(2,\"a\")\n",
        "print(\"list1 after inserting a in 3rd position is : \",list1)"
      ],
      "metadata": {
        "colab": {
          "base_uri": "https://localhost:8080/"
        },
        "id": "g7acye2kkv8k",
        "outputId": "2ac2f41d-d244-4d08-f224-e3a388b6c86c"
      },
      "execution_count": 4,
      "outputs": [
        {
          "output_type": "stream",
          "name": "stdout",
          "text": [
            "list1 is :  [0, 1, 2, 3, 4]\n",
            "list1 after inserting a in 3rd position is :  [0, 1, 'a', 2, 3, 4]\n"
          ]
        }
      ]
    },
    {
      "cell_type": "markdown",
      "source": [
        "**4.index()**"
      ],
      "metadata": {
        "id": "NWa0Vom4mFk2"
      }
    },
    {
      "cell_type": "code",
      "source": [
        "list1=list(range(5,10))\n",
        "print(\"list1 is : \",list1)\n",
        "index = list1.index(7)\n",
        "print(\"index of 7 in list1 is \",index)"
      ],
      "metadata": {
        "colab": {
          "base_uri": "https://localhost:8080/"
        },
        "id": "rh6hlgb7l601",
        "outputId": "93e7d466-6591-4154-f0ae-42ab441e244e"
      },
      "execution_count": 5,
      "outputs": [
        {
          "output_type": "stream",
          "name": "stdout",
          "text": [
            "list1 is :  [5, 6, 7, 8, 9]\n",
            "index of 7 in list1 is  2\n"
          ]
        }
      ]
    },
    {
      "cell_type": "markdown",
      "source": [
        "**5.remove()**"
      ],
      "metadata": {
        "id": "IvJLYxhDm5iH"
      }
    },
    {
      "cell_type": "code",
      "source": [
        "list1 = list(range(5))\n",
        "print(\"list1 before removing 2 \",list1)\n",
        "list1.remove(2)\n",
        "print(\"list1 after removing 2 \",list1)"
      ],
      "metadata": {
        "colab": {
          "base_uri": "https://localhost:8080/"
        },
        "id": "jv60KZH3m1ZW",
        "outputId": "a303f827-c804-42c2-9b73-f556988e4ddd"
      },
      "execution_count": 6,
      "outputs": [
        {
          "output_type": "stream",
          "name": "stdout",
          "text": [
            "list1 before removing 2  [0, 1, 2, 3, 4]\n",
            "list1 after removing 2  [0, 1, 3, 4]\n"
          ]
        }
      ]
    },
    {
      "cell_type": "markdown",
      "source": [
        "**6.pop()**"
      ],
      "metadata": {
        "id": "ixD4wwpGn0G8"
      }
    },
    {
      "cell_type": "code",
      "source": [
        "list1 = list(range(5))\n",
        "print(\"list1 before pop applied \",list1)\n",
        "pop = list1.pop()\n",
        "print(\"list1 after poping \",pop,\" is \",list1)\n",
        "pop2 = list1.pop(2)\n",
        "print(\"list1 after poping 3rd positioned element i.e \",pop2,\" is \",list1)"
      ],
      "metadata": {
        "colab": {
          "base_uri": "https://localhost:8080/"
        },
        "id": "Q1ek_CRDnxDc",
        "outputId": "4f6cd774-679a-4753-a8f7-ae2bde853fc8"
      },
      "execution_count": 8,
      "outputs": [
        {
          "output_type": "stream",
          "name": "stdout",
          "text": [
            "list1 before pop applied  [0, 1, 2, 3, 4]\n",
            "list1 after poping  4  is  [0, 1, 2, 3]\n",
            "list1 after poping 3rd positioned element i.e  2  is  [0, 1, 3]\n"
          ]
        }
      ]
    },
    {
      "cell_type": "markdown",
      "source": [
        "**7.sort()**"
      ],
      "metadata": {
        "id": "XZ8BrBt8pUmy"
      }
    },
    {
      "cell_type": "code",
      "source": [
        "list1 = list((4,2,5,7,6,8))\n",
        "print(\"list before sorting : \",list1)\n",
        "list1.sort()\n",
        "print(\"list after sorting : \", list1)\n"
      ],
      "metadata": {
        "colab": {
          "base_uri": "https://localhost:8080/"
        },
        "id": "tcWUqWF2pAy8",
        "outputId": "d1bfaf9b-4222-4bfa-e8ff-20cf84d419a5"
      },
      "execution_count": 12,
      "outputs": [
        {
          "output_type": "stream",
          "name": "stdout",
          "text": [
            "list before sorting :  [4, 2, 5, 7, 6, 8]\n",
            "list after sorting :  [2, 4, 5, 6, 7, 8]\n"
          ]
        }
      ]
    },
    {
      "cell_type": "markdown",
      "source": [
        "**8.reverse()**"
      ],
      "metadata": {
        "id": "VOqcYa5ervK4"
      }
    },
    {
      "cell_type": "code",
      "source": [
        "list1 = list(range(5))\n",
        "print(\"list before reversing : \",list1)\n",
        "list1.reverse()\n",
        "print(\"list after reversing : \",list1)"
      ],
      "metadata": {
        "colab": {
          "base_uri": "https://localhost:8080/"
        },
        "id": "zCri5L5fruYb",
        "outputId": "bd427821-f616-4552-e27f-bbda73366691"
      },
      "execution_count": 13,
      "outputs": [
        {
          "output_type": "stream",
          "name": "stdout",
          "text": [
            "list before reversing :  [0, 1, 2, 3, 4]\n",
            "list after reversing :  [4, 3, 2, 1, 0]\n"
          ]
        }
      ]
    },
    {
      "cell_type": "markdown",
      "source": [
        "**9.len(),max(),min()**"
      ],
      "metadata": {
        "id": "4ac2RqMWsWMr"
      }
    },
    {
      "cell_type": "code",
      "source": [
        "list1 = list(range(5))\n",
        "print(\"the list is : \",list1)\n",
        "print(\"length of list  : \",len(list1))\n",
        "print(\"Max of the list : \",max(list1))\n",
        "print(\"Min of the list : \",min(list1))"
      ],
      "metadata": {
        "colab": {
          "base_uri": "https://localhost:8080/"
        },
        "id": "HvjzjKfJrgRh",
        "outputId": "a42c6612-59f1-4754-b980-1dff96ccc639"
      },
      "execution_count": 14,
      "outputs": [
        {
          "output_type": "stream",
          "name": "stdout",
          "text": [
            "the list is :  [0, 1, 2, 3, 4]\n",
            "length of list  :  5\n",
            "Max of the list :  4\n",
            "Min of the list :  0\n"
          ]
        }
      ]
    },
    {
      "cell_type": "markdown",
      "source": [
        "**10.count()**"
      ],
      "metadata": {
        "id": "EOm1IswBtJX7"
      }
    },
    {
      "cell_type": "code",
      "source": [
        "list1 = [1,33,33,44,44,33,44,44]\n",
        "print(\"the list is \",list1)\n",
        "print(\"count of 44 in the list is \", list1.count(44))"
      ],
      "metadata": {
        "colab": {
          "base_uri": "https://localhost:8080/"
        },
        "id": "KqUmKYRjtGgD",
        "outputId": "e795a328-b99a-4aca-e139-412cba859964"
      },
      "execution_count": 15,
      "outputs": [
        {
          "output_type": "stream",
          "name": "stdout",
          "text": [
            "the list is  [1, 33, 33, 44, 44, 33, 44, 44]\n",
            "count of 44 in the list is  4\n"
          ]
        }
      ]
    },
    {
      "cell_type": "markdown",
      "source": [
        "**11.clear()**"
      ],
      "metadata": {
        "id": "nzU2SIZ-t0ux"
      }
    },
    {
      "cell_type": "code",
      "source": [
        "list1 = list(range(6))\n",
        "print(\"list before clear \", list1)\n",
        "list1.clear()\n",
        "print(\"list after clear \", list1)"
      ],
      "metadata": {
        "colab": {
          "base_uri": "https://localhost:8080/"
        },
        "id": "dwS9LlcFtxhN",
        "outputId": "bbdc03b7-48fe-4088-d01a-a923c0aa7de4"
      },
      "execution_count": 16,
      "outputs": [
        {
          "output_type": "stream",
          "name": "stdout",
          "text": [
            "list before clear  [0, 1, 2, 3, 4, 5]\n",
            "list after clear  []\n"
          ]
        }
      ]
    },
    {
      "cell_type": "markdown",
      "source": [
        "**12.rotate()**"
      ],
      "metadata": {
        "id": "6dJxbin_0MDg"
      }
    },
    {
      "cell_type": "code",
      "source": [
        "from collections import deque\n",
        "list1 = deque(list(range(6)))\n",
        "print(\"list before rotation\",list1)\n",
        "list1.rotate(1)\n",
        "print(\"list after rotation\",list1)"
      ],
      "metadata": {
        "colab": {
          "base_uri": "https://localhost:8080/"
        },
        "id": "Y7dHiJS90VDm",
        "outputId": "abf2e8ed-f69f-4b3b-bc7a-217abc6a2605"
      },
      "execution_count": 22,
      "outputs": [
        {
          "output_type": "stream",
          "name": "stdout",
          "text": [
            "list before rotation deque([0, 1, 2, 3, 4, 5])\n",
            "list after rotation deque([5, 0, 1, 2, 3, 4])\n"
          ]
        }
      ]
    },
    {
      "cell_type": "markdown",
      "source": [
        "#**INDEXING IN LIST**"
      ],
      "metadata": {
        "id": "6calSip9vnW3"
      }
    },
    {
      "cell_type": "markdown",
      "source": [
        "**list[start : stop : step ] **\n",
        "**start is range from which it starts ,**\n",
        "**stop where index ends, step tells gaps it should take in between.**"
      ],
      "metadata": {
        "id": "crQF8wtmvvWm"
      }
    },
    {
      "cell_type": "code",
      "source": [
        "list1 = list(range(10))\n",
        "print(\"list with 0-5 range slicing is : \",list1[0:5])\n",
        "print(\"list with 0-5 range slicing is : \",list1[:5])\n",
        "print(\"list with step=2 sliciing is : \",list1[::2])\n"
      ],
      "metadata": {
        "colab": {
          "base_uri": "https://localhost:8080/"
        },
        "id": "vEUUVH1HufJq",
        "outputId": "b992cc1a-d44b-4ee1-bc75-2cd88422faf4"
      },
      "execution_count": 18,
      "outputs": [
        {
          "output_type": "stream",
          "name": "stdout",
          "text": [
            "list with 0-5 range slicing is :  [0, 1, 2, 3, 4]\n",
            "list with 0-5 range slicing is :  [0, 1, 2, 3, 4]\n",
            "list with step=2 sliciing is :  [0, 2, 4, 6, 8]\n"
          ]
        }
      ]
    },
    {
      "cell_type": "markdown",
      "source": [
        "#**Using .copy()**"
      ],
      "metadata": {
        "id": "7IZxq_ysx_Yh"
      }
    },
    {
      "cell_type": "markdown",
      "source": [
        "**If we don't use copy then the list points same address and changes can't be differentiated**  "
      ],
      "metadata": {
        "id": "10o_V22GyYwf"
      }
    },
    {
      "cell_type": "code",
      "source": [
        "list1 = list(range(10))\n",
        "list2 = list1\n",
        "list1.append(12)\n",
        "print(\"the list2 is also appended \",list2)\n",
        "list1 = list(range(10))\n",
        "list2 = list1.copy()\n",
        "list1.append(12)\n",
        "print(\"the list2 is not appended because we used copy() \",list2)\n"
      ],
      "metadata": {
        "colab": {
          "base_uri": "https://localhost:8080/"
        },
        "id": "_D0pfW0sxSpi",
        "outputId": "a0b31e5c-38db-4349-84d5-cb8fef0dfad5"
      },
      "execution_count": 19,
      "outputs": [
        {
          "output_type": "stream",
          "name": "stdout",
          "text": [
            "the list2 is also appended  [0, 1, 2, 3, 4, 5, 6, 7, 8, 9, 12]\n",
            "the list2 is not appended because we used copy()  [0, 1, 2, 3, 4, 5, 6, 7, 8, 9]\n"
          ]
        }
      ]
    },
    {
      "cell_type": "markdown",
      "source": [
        ""
      ],
      "metadata": {
        "id": "fDTbUweO0Dug"
      }
    },
    {
      "cell_type": "code",
      "source": [
        ""
      ],
      "metadata": {
        "id": "ZqT1uFotz_Ch"
      },
      "execution_count": null,
      "outputs": []
    }
  ]
}