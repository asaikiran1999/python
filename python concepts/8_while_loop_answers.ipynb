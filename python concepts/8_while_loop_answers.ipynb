{
  "nbformat": 4,
  "nbformat_minor": 0,
  "metadata": {
    "colab": {
      "name": "8.while_loop_answers.ipynb",
      "provenance": []
    },
    "kernelspec": {
      "name": "python3",
      "display_name": "Python 3"
    },
    "language_info": {
      "name": "python"
    }
  },
  "cells": [
    {
      "cell_type": "markdown",
      "source": [
        "**1.Run a infinite loop which checks a given string is pallendrome or not and stop the while loop when it is a pallendrome**"
      ],
      "metadata": {
        "id": "_7yNAsTgKM4n"
      }
    },
    {
      "cell_type": "markdown",
      "source": [
        "case1"
      ],
      "metadata": {
        "id": "HCULu_V8Linc"
      }
    },
    {
      "cell_type": "code",
      "execution_count": 1,
      "metadata": {
        "colab": {
          "base_uri": "https://localhost:8080/"
        },
        "id": "6MsYpyabKIa6",
        "outputId": "42abb04b-a305-4356-ab10-a61c7f6e7064"
      },
      "outputs": [
        {
          "output_type": "stream",
          "name": "stdout",
          "text": [
            "enter the string : dad\n",
            "dad  is a pallendrome\n"
          ]
        }
      ],
      "source": [
        "while(True):\n",
        "  x=input(\"enter the string : \")\n",
        "  if x==x[::-1]:\n",
        "    print(x,\" is a pallendrome\")\n",
        "    break;\n",
        "  else:\n",
        "    print(x,\" is not a pallendrome\")"
      ]
    },
    {
      "cell_type": "markdown",
      "source": [
        "case2"
      ],
      "metadata": {
        "id": "avC71dtdLk7U"
      }
    },
    {
      "cell_type": "code",
      "source": [
        "while(True):\n",
        "  x=input(\"enter the string : \")\n",
        "  if x==x[::-1]:\n",
        "    print(x,\" is a pallendrome\")\n",
        "    break;\n",
        "  else:\n",
        "    print(x,\" is not a pallendrome\")"
      ],
      "metadata": {
        "colab": {
          "base_uri": "https://localhost:8080/"
        },
        "id": "hZcKrqMRLNyV",
        "outputId": "36999bfa-5325-4124-9976-996809005b00"
      },
      "execution_count": 2,
      "outputs": [
        {
          "output_type": "stream",
          "name": "stdout",
          "text": [
            "enter the string : fou4\n",
            "fou4  is not a pallendrome\n",
            "enter the string : 3orkfjuf\n",
            "3orkfjuf  is not a pallendrome\n",
            "enter the string : p3mk[pf\n",
            "p3mk[pf  is not a pallendrome\n",
            "enter the string : mom\n",
            "mom  is a pallendrome\n"
          ]
        }
      ]
    },
    {
      "cell_type": "markdown",
      "source": [
        "**2.print the factorial of a number using while loop**"
      ],
      "metadata": {
        "id": "JVfMyplaLmsD"
      }
    },
    {
      "cell_type": "code",
      "source": [
        "x=int(input(\" Enter the number : \"))\n",
        "y=x\n",
        "t=1\n",
        "while(True):\n",
        "  if(x==0 or x==1):\n",
        "    print(t*y)\n",
        "    break\n",
        "  else:\n",
        "    t=t*(x-1)\n",
        "    x=x-1"
      ],
      "metadata": {
        "colab": {
          "base_uri": "https://localhost:8080/"
        },
        "id": "YsmG7OEDLcQF",
        "outputId": "e32b0bad-0b26-45bd-cbb0-70f46296f3ba"
      },
      "execution_count": 7,
      "outputs": [
        {
          "output_type": "stream",
          "name": "stdout",
          "text": [
            " Enter the number : 5\n",
            "120\n"
          ]
        }
      ]
    },
    {
      "cell_type": "markdown",
      "source": [
        "**3.consider a list of number and print numbers only which are even in it using while loop**"
      ],
      "metadata": {
        "id": "YP2VP4s1OZv1"
      }
    },
    {
      "cell_type": "code",
      "source": [
        "list1 = [1,4,6,3,8,9,10]\n",
        "i=0\n",
        "while(i!=len(list1)):\n",
        "  if list1[i]%2==0:\n",
        "    print(list1[i])\n",
        "  i+=1"
      ],
      "metadata": {
        "colab": {
          "base_uri": "https://localhost:8080/"
        },
        "id": "28Oof0aTOjRq",
        "outputId": "f5957a0a-c37d-4697-f7e3-6cbd0c8bef52"
      },
      "execution_count": 11,
      "outputs": [
        {
          "output_type": "stream",
          "name": "stdout",
          "text": [
            "4\n",
            "6\n",
            "8\n",
            "10\n"
          ]
        }
      ]
    }
  ]
}