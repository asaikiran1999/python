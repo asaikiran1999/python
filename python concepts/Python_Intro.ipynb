{
  "nbformat": 4,
  "nbformat_minor": 0,
  "metadata": {
    "colab": {
      "name": "Python Intro.ipynb",
      "provenance": []
    },
    "kernelspec": {
      "name": "python3",
      "display_name": "Python 3"
    },
    "language_info": {
      "name": "python"
    }
  },
  "cells": [
    {
      "cell_type": "markdown",
      "source": [
        "#**PYTHON INTRO**\n",
        "\n",
        "**1.EASY TO CODE AND UNDERSTAND**\n",
        "\n",
        "**2.ACTS AS AN INTERPRETOR**\n",
        "\n",
        "**3.HAS HUGE LIBRARIES**"
      ],
      "metadata": {
        "id": "q8TXx3KHQJoH"
      }
    },
    {
      "cell_type": "markdown",
      "source": [
        "**1.basic python code**"
      ],
      "metadata": {
        "id": "GVtOJJJ5RA38"
      }
    },
    {
      "cell_type": "code",
      "source": [
        "print('learn quick and work more')"
      ],
      "metadata": {
        "colab": {
          "base_uri": "https://localhost:8080/"
        },
        "id": "sZhJVdoCRALF",
        "outputId": "bf512884-d5ac-49a2-bd51-c36f74d2184f"
      },
      "execution_count": 1,
      "outputs": [
        {
          "output_type": "stream",
          "name": "stdout",
          "text": [
            "learn quick and work more\n"
          ]
        }
      ]
    },
    {
      "cell_type": "markdown",
      "source": [
        "**2.Variable : it can store the data**\n",
        "\n",
        "**basically there are 4 types of variables**\n"
      ],
      "metadata": {
        "id": "ZsTFhdzCQ_vF"
      }
    },
    {
      "cell_type": "markdown",
      "source": [
        "**1.number**"
      ],
      "metadata": {
        "id": "Hxb8B_sjSArW"
      }
    },
    {
      "cell_type": "code",
      "execution_count": 2,
      "metadata": {
        "colab": {
          "base_uri": "https://localhost:8080/"
        },
        "id": "lxMacg6pKqlC",
        "outputId": "e7312be2-6dfe-4f68-e213-e21dd173a96c"
      },
      "outputs": [
        {
          "output_type": "stream",
          "name": "stdout",
          "text": [
            "<class 'int'>\n"
          ]
        }
      ],
      "source": [
        "a = 1\n",
        "print(type(a))"
      ]
    },
    {
      "cell_type": "markdown",
      "source": [
        "**2.strings**"
      ],
      "metadata": {
        "id": "Iw-yjuRtQINa"
      }
    },
    {
      "cell_type": "code",
      "source": [
        "a='hello quicky'\n",
        "print((type(a)))"
      ],
      "metadata": {
        "colab": {
          "base_uri": "https://localhost:8080/"
        },
        "id": "OMWvE1NxSYzE",
        "outputId": "4deaf5d6-5865-452b-f479-26544f748000"
      },
      "execution_count": 3,
      "outputs": [
        {
          "output_type": "stream",
          "name": "stdout",
          "text": [
            "<class 'str'>\n"
          ]
        }
      ]
    },
    {
      "cell_type": "markdown",
      "source": [
        "**3.Boolean**"
      ],
      "metadata": {
        "id": "QhBXiYgNS31d"
      }
    },
    {
      "cell_type": "code",
      "source": [
        "a=True\n",
        "b=False\n",
        "print(type(a))\n",
        "print(type(b))"
      ],
      "metadata": {
        "colab": {
          "base_uri": "https://localhost:8080/"
        },
        "id": "NWCaSnRgSu99",
        "outputId": "1849b878-9814-405f-fe64-272c60906e10"
      },
      "execution_count": 6,
      "outputs": [
        {
          "output_type": "stream",
          "name": "stdout",
          "text": [
            "<class 'bool'>\n",
            "<class 'bool'>\n"
          ]
        }
      ]
    },
    {
      "cell_type": "markdown",
      "source": [
        "**4.sequences**\n",
        "\n",
        "1.tuple\n",
        "\n",
        "2.list\n",
        "\n",
        "3.set\n",
        "\n",
        "4.dictionary"
      ],
      "metadata": {
        "id": "f8KheS3ETLfd"
      }
    },
    {
      "cell_type": "code",
      "source": [
        "a = 1,2,3,\n",
        "b = [1,2,3]\n",
        "c = {1,2,3}\n",
        "d = {1:'sai',2:'kiran',3:'avasarala'}\n",
        "print(type(a))\n",
        "print(type(b))\n",
        "print(type(c))\n",
        "print(type(d))"
      ],
      "metadata": {
        "colab": {
          "base_uri": "https://localhost:8080/"
        },
        "id": "RN5BsUxXTCem",
        "outputId": "2ba056d0-966b-44c4-8121-8a5dd5b3f588"
      },
      "execution_count": 7,
      "outputs": [
        {
          "output_type": "stream",
          "name": "stdout",
          "text": [
            "<class 'tuple'>\n",
            "<class 'list'>\n",
            "<class 'set'>\n",
            "<class 'dict'>\n"
          ]
        }
      ]
    },
    {
      "cell_type": "markdown",
      "source": [
        "**5.Taking inputs**"
      ],
      "metadata": {
        "id": "3cBveRSfUB8c"
      }
    },
    {
      "cell_type": "code",
      "source": [
        "a = input(\" enter your mindset : \")\n",
        "print(\"You are \",a)"
      ],
      "metadata": {
        "colab": {
          "base_uri": "https://localhost:8080/"
        },
        "id": "xHF59xllT0Mv",
        "outputId": "95cdf914-5e95-411e-abb6-e23ecf57816f"
      },
      "execution_count": 9,
      "outputs": [
        {
          "output_type": "stream",
          "name": "stdout",
          "text": [
            " enter your mindset : smart\n",
            "You are  smart\n"
          ]
        }
      ]
    },
    {
      "cell_type": "code",
      "source": [
        ""
      ],
      "metadata": {
        "id": "H4EGECBeUqe9"
      },
      "execution_count": null,
      "outputs": []
    }
  ]
}