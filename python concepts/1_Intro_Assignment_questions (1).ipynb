{
  "nbformat": 4,
  "nbformat_minor": 0,
  "metadata": {
    "colab": {
      "name": "1.Intro-Assignment_questions.ipynb",
      "provenance": []
    },
    "kernelspec": {
      "name": "python3",
      "display_name": "Python 3"
    },
    "language_info": {
      "name": "python"
    }
  },
  "cells": [
    {
      "cell_type": "markdown",
      "source": [
        "**1.print 'hello' and a name which is taken from user.**"
      ],
      "metadata": {
        "id": "534NEkRiRoDa"
      }
    },
    {
      "cell_type": "markdown",
      "source": [
        "**2.take a float value and convert it into a integer and then into a string.**"
      ],
      "metadata": {
        "id": "ONaDbOQUSASO"
      }
    },
    {
      "cell_type": "markdown",
      "source": [
        "**3.define a tuple and convert it into a list, then convert the list into a set.**"
      ],
      "metadata": {
        "id": "Qyh5byZBSXo_"
      }
    },
    {
      "cell_type": "markdown",
      "source": [
        "**4.print a dictionary with rollno, student name, and class name as keys with coresponding values taken from users.**"
      ],
      "metadata": {
        "id": "mQHfLLiwSxs3"
      }
    },
    {
      "cell_type": "markdown",
      "source": [
        "#**[CLICK HERE](https://github.com/asaikiran1999/python/blob/main/python%20concepts/1_Intro_Assignment.ipynb)** for solutions"
      ],
      "metadata": {
        "id": "iRGhmUaqW3C4"
      }
    }
  ]
}