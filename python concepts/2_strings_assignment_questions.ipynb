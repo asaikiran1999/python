{
  "nbformat": 4,
  "nbformat_minor": 0,
  "metadata": {
    "colab": {
      "name": "2_strings_assignment_questions.ipynb",
      "provenance": []
    },
    "kernelspec": {
      "name": "python3",
      "display_name": "Python 3"
    },
    "language_info": {
      "name": "python"
    }
  },
  "cells": [
    {
      "cell_type": "markdown",
      "source": [
        "**1.Take a  string as an input from user and concatinate last letters of that strring and print the concatinated string.**"
      ],
      "metadata": {
        "id": "jkvL4wB-JbYY"
      }
    },
    {
      "cell_type": "markdown",
      "source": [
        "**2.Print first two letters of a string**"
      ],
      "metadata": {
        "id": "sAo6D1DPKNpO"
      }
    },
    {
      "cell_type": "markdown",
      "source": [
        "**3.Print reverse of string using slicing concept**"
      ],
      "metadata": {
        "id": "R3JJFxmHKdYO"
      }
    },
    {
      "cell_type": "markdown",
      "source": [
        "**4.print a number as a string and count zeros in it.**"
      ],
      "metadata": {
        "id": "iQ-vsFR4KzY_"
      }
    },
    {
      "cell_type": "markdown",
      "source": [
        "**5.Consider a string \"Quick Learn python\" split it into list of words seperately and join them with substring '-' in between.**"
      ],
      "metadata": {
        "id": "biS-HrGiLJ3J"
      }
    },
    {
      "cell_type": "markdown",
      "source": [
        "#**[CLICK HERE](https://github.com/asaikiran1999/python/blob/main/python%20concepts/2.strings_assignment_solution.ipynb)** for solutions"
      ],
      "metadata": {
        "id": "Ld7fsQWdNPP2"
      }
    }
  ]
}