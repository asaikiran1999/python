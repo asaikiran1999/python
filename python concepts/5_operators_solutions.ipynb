{
  "nbformat": 4,
  "nbformat_minor": 0,
  "metadata": {
    "colab": {
      "name": "5.operators_questions.ipynb",
      "provenance": []
    },
    "kernelspec": {
      "name": "python3",
      "display_name": "Python 3"
    },
    "language_info": {
      "name": "python"
    }
  },
  "cells": [
    {
      "cell_type": "markdown",
      "source": [
        "**1.Execute the following statement axb+cxd/e following BODMAS rules under taking user inputs of a,b,c,d,e values**"
      ],
      "metadata": {
        "id": "dIHAyuXwi-ta"
      }
    },
    {
      "cell_type": "code",
      "execution_count": 2,
      "metadata": {
        "colab": {
          "base_uri": "https://localhost:8080/"
        },
        "id": "dEbo5CkEiOMA",
        "outputId": "b6d3f706-c10d-4dca-b54d-f62943c552f0"
      },
      "outputs": [
        {
          "output_type": "stream",
          "name": "stdout",
          "text": [
            "enter a 1\n",
            "enter b 2\n",
            "enter c 3\n",
            "enter d 4\n",
            "enter e 5\n",
            "the answer is  2.8\n"
          ]
        }
      ],
      "source": [
        "a=int(input(\"enter a \"))\n",
        "b=int(input(\"enter b \"))\n",
        "c=int(input(\"enter c \"))\n",
        "d=int(input(\"enter d \"))\n",
        "e=int(input(\"enter e \"))\n",
        "print(\"the answer is \",((a*b)+(c*d))/e)"
      ]
    },
    {
      "cell_type": "markdown",
      "source": [
        "**2.Taking inputs of a,b and**\n",
        "\n",
        "**print \"a is equal to b \" if a==b**\n",
        "\n",
        "**print \"a is not equal to b \" if a!=b**\n",
        "\n",
        "**print \"a is greater than b \" if a>b**\n",
        "\n",
        "**print \"a is less than b \" if a<b**"
      ],
      "metadata": {
        "id": "8x8uqTgckTKx"
      }
    },
    {
      "cell_type": "code",
      "source": [
        "a=int(input(\" enter a \"))\n",
        "b= int(input(\" enter b \"))\n",
        "if a==b:\n",
        "  print(\"a is equal to b \")\n",
        "if a!=b:\n",
        "  print(\"a is not equal to b \")\n",
        "if a>b:\n",
        "  print(\"a is greater than b \")\n",
        "else:\n",
        "  print(\"a is less than b \")"
      ],
      "metadata": {
        "colab": {
          "base_uri": "https://localhost:8080/"
        },
        "id": "CUPDCW0Fk-Y9",
        "outputId": "5a1c3672-11bb-4ed3-ebc1-16809fc3e162"
      },
      "execution_count": 5,
      "outputs": [
        {
          "output_type": "stream",
          "name": "stdout",
          "text": [
            " enter a 4\n",
            " enter b 5\n",
            "a is not equal to b \n",
            "a is less than b \n"
          ]
        }
      ]
    },
    {
      "cell_type": "markdown",
      "source": [
        "**3.print \"a is zero\" if (a>0 and a<0 ) is false**"
      ],
      "metadata": {
        "id": "bk6FOF1Ll5VY"
      }
    },
    {
      "cell_type": "code",
      "source": [
        "a=int(input(\"enter a \"))\n",
        "if not (a>0 and a<0):\n",
        "  print('a is zero')"
      ],
      "metadata": {
        "colab": {
          "base_uri": "https://localhost:8080/"
        },
        "id": "ju6k_GxalqFi",
        "outputId": "0694a89d-c2c6-4535-ac09-eac75be68a66"
      },
      "execution_count": 6,
      "outputs": [
        {
          "output_type": "stream",
          "name": "stdout",
          "text": [
            "enter a 0\n",
            "a is zero\n"
          ]
        }
      ]
    },
    {
      "cell_type": "code",
      "source": [
        ""
      ],
      "metadata": {
        "id": "xntFiMypmfxw"
      },
      "execution_count": null,
      "outputs": []
    }
  ]
}