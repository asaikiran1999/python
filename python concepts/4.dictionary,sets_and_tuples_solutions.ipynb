{
  "nbformat": 4,
  "nbformat_minor": 0,
  "metadata": {
    "colab": {
      "name": "dictionary,sets and tuples_solutions.ipynb",
      "provenance": []
    },
    "kernelspec": {
      "name": "python3",
      "display_name": "Python 3"
    },
    "language_info": {
      "name": "python"
    }
  },
  "cells": [
    {
      "cell_type": "markdown",
      "source": [
        "**1. Build library as dictionary with keys as book id and values as book name.\n",
        "then\n",
        "print**\n",
        "\n",
        "\"1.Add book\"\n",
        "\n",
        "\"2.delete book\"\n",
        "\n",
        "\n",
        "**Take input from user and if 1 is given add a book into dictionary,if 2 is given delete last book in library and then print library** "
      ],
      "metadata": {
        "id": "A93df6x8iEQ-"
      }
    },
    {
      "cell_type": "code",
      "execution_count": 11,
      "metadata": {
        "colab": {
          "base_uri": "https://localhost:8080/"
        },
        "id": "elnK3ixDhsFg",
        "outputId": "2f42b71e-1b31-41c0-cd63-2611fcf920d2"
      },
      "outputs": [
        {
          "output_type": "stream",
          "name": "stdout",
          "text": [
            "'1.Add book'\n",
            "'2.delete book'\n",
            "'3.print the library'\n",
            "Enter the choice:2\n",
            "enter the book id : 1\n",
            "{2: 'abc', 3: 'lmn'}\n"
          ]
        }
      ],
      "source": [
        "library = {1:'xyz',2:'abc',3:'lmn'}\n",
        "print(\"'1.Add book'\\n'2.delete book'\\n'3.print the library'\")\n",
        "x = int(input(\"Enter the choice:\"))\n",
        "i=len(library)\n",
        "if x == 1:\n",
        "  y=input(\"enter the bookname : \")\n",
        "  library.update({i+1 : y})\n",
        "  i+=1\n",
        "elif x==2:\n",
        "  y=int(input(\"enter the book id : \"))\n",
        "  library.pop(y)\n",
        "print(library)"
      ]
    },
    {
      "cell_type": "code",
      "source": [
        "library = {1:'xyz',2:'abc',3:'lmn'}\n",
        "print(\"'1.Add book'\\n'2.delete book'\\n'3.print the library'\")\n",
        "x = int(input(\"Enter the choice:\"))\n",
        "i=len(library)\n",
        "if x == 1:\n",
        "  y=input(\"enter the bookname : \")\n",
        "  library.update({i+1 : y})\n",
        "  i+=1\n",
        "elif x==2:\n",
        "  y=int(input(\"enter the book id : \"))\n",
        "  library.pop(y)\n",
        "print(library)"
      ],
      "metadata": {
        "colab": {
          "base_uri": "https://localhost:8080/"
        },
        "id": "PiMy0ysKkFl0",
        "outputId": "2b7fa45d-d4dc-4ed3-9a32-b76eb87ca8bb"
      },
      "execution_count": 12,
      "outputs": [
        {
          "output_type": "stream",
          "name": "stdout",
          "text": [
            "'1.Add book'\n",
            "'2.delete book'\n",
            "'3.print the library'\n",
            "Enter the choice:1\n",
            "enter the bookname : xxx\n",
            "{1: 'xyz', 2: 'abc', 3: 'lmn', 4: 'xxx'}\n"
          ]
        }
      ]
    },
    {
      "cell_type": "markdown",
      "source": [
        "**2.Take list from the user with duplicate values and convert it into tuple,print unique values in the tuple.**"
      ],
      "metadata": {
        "id": "v1fNooKxwzPJ"
      }
    },
    {
      "cell_type": "code",
      "source": [
        "list1 = [1,2,1,1,2,3,5,6,73,8,9,4,3]\n",
        "tuple1=tuple(list1)\n",
        "print(set(tuple1))"
      ],
      "metadata": {
        "colab": {
          "base_uri": "https://localhost:8080/"
        },
        "id": "7rWDAUz-uzMX",
        "outputId": "c4df385c-05e1-4e32-f8ec-d618bb13bab4"
      },
      "execution_count": 14,
      "outputs": [
        {
          "output_type": "stream",
          "name": "stdout",
          "text": [
            "{1, 2, 3, 4, 5, 6, 8, 73, 9}\n"
          ]
        }
      ]
    }
  ]
}