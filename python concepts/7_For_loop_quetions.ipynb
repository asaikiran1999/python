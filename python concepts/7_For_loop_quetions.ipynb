{
  "nbformat": 4,
  "nbformat_minor": 0,
  "metadata": {
    "colab": {
      "name": "7.For_loop_quetions.ipynb",
      "provenance": []
    },
    "kernelspec": {
      "name": "python3",
      "display_name": "Python 3"
    },
    "language_info": {
      "name": "python"
    }
  },
  "cells": [
    {
      "cell_type": "markdown",
      "source": [
        "**1.print 2 table and 3 table side by side upto 10 iterations.**"
      ],
      "metadata": {
        "id": "qu9eTMTAF0fO"
      }
    },
    {
      "cell_type": "markdown",
      "source": [
        "**2.Take a list containing integers in string format and convert then into list of integer format using for loop**"
      ],
      "metadata": {
        "id": "vuehQeamGvq0"
      }
    },
    {
      "cell_type": "markdown",
      "source": [
        "**print the pattern**\n",
        "\n",
        "x\n",
        "\n",
        "xx\n",
        "\n",
        "xxx\n",
        "\n",
        "xxxx\n",
        "\n",
        "**using for loop**"
      ],
      "metadata": {
        "id": "fTmMtAsyH8jc"
      }
    },
    {
      "cell_type": "markdown",
      "source": [
        "#**[CLICK HERE](https://github.com/asaikiran1999/python/blob/main/python%20concepts/7_For_loop_answers.ipynb)** for solutions"
      ],
      "metadata": {
        "id": "oPf4efXAJcXU"
      }
    }
  ]
}