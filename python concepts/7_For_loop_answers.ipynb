{
  "nbformat": 4,
  "nbformat_minor": 0,
  "metadata": {
    "colab": {
      "name": "7.For_loop_answers.ipynb",
      "provenance": []
    },
    "kernelspec": {
      "name": "python3",
      "display_name": "Python 3"
    },
    "language_info": {
      "name": "python"
    }
  },
  "cells": [
    {
      "cell_type": "markdown",
      "source": [
        "**1.print 2 table and 3 table side by side upto 10 iterations.**"
      ],
      "metadata": {
        "id": "qu9eTMTAF0fO"
      }
    },
    {
      "cell_type": "code",
      "execution_count": 2,
      "metadata": {
        "colab": {
          "base_uri": "https://localhost:8080/"
        },
        "id": "7GkOnpeHFZrY",
        "outputId": "c25dd6a8-2637-4ffe-a13b-276605b0eb43"
      },
      "outputs": [
        {
          "output_type": "stream",
          "name": "stdout",
          "text": [
            "2 x 1 = 2  3 x 1 = 3\n",
            "2 x 2 = 4  3 x 2 = 6\n",
            "2 x 3 = 6  3 x 3 = 9\n",
            "2 x 4 = 8  3 x 4 = 12\n",
            "2 x 5 = 10  3 x 5 = 15\n",
            "2 x 6 = 12  3 x 6 = 18\n",
            "2 x 7 = 14  3 x 7 = 21\n",
            "2 x 8 = 16  3 x 8 = 24\n",
            "2 x 9 = 18  3 x 9 = 27\n",
            "2 x 10 = 20  3 x 10 = 30\n"
          ]
        }
      ],
      "source": [
        "for i in range(1,11):\n",
        "  print(2,\"x\",i,\"=\",i*2, end='  ')\n",
        "  print(3,\"x\",i,\"=\",i*3)"
      ]
    },
    {
      "cell_type": "markdown",
      "source": [
        "**2.Take a list containing integers in string format and convert then into list of integer format using for loop**"
      ],
      "metadata": {
        "id": "vuehQeamGvq0"
      }
    },
    {
      "cell_type": "code",
      "source": [
        "list1 = ['1','2','3','4','5']\n",
        "print(list1)\n",
        "for i in range(len(list1)):\n",
        "  list1[i]=int(list1[i])\n",
        "\n",
        "print(list1)"
      ],
      "metadata": {
        "colab": {
          "base_uri": "https://localhost:8080/"
        },
        "id": "gBajvuNrGszd",
        "outputId": "ae3a619e-4684-494e-de3e-ad4b408c25f3"
      },
      "execution_count": 4,
      "outputs": [
        {
          "output_type": "stream",
          "name": "stdout",
          "text": [
            "['1', '2', '3', '4', '5']\n",
            "[1, 2, 3, 4, 5]\n"
          ]
        }
      ]
    },
    {
      "cell_type": "markdown",
      "source": [
        "**print the pattern**\n",
        "\n",
        "x\n",
        "\n",
        "xx\n",
        "\n",
        "xxx\n",
        "\n",
        "xxxx\n",
        "\n",
        "**using for loop**"
      ],
      "metadata": {
        "id": "fTmMtAsyH8jc"
      }
    },
    {
      "cell_type": "code",
      "source": [
        "for i in range(1,5):\n",
        "  print('\\n')\n",
        "  for j in range(i):\n",
        "    print('x',end='')"
      ],
      "metadata": {
        "colab": {
          "base_uri": "https://localhost:8080/"
        },
        "id": "oM7KJCtDH2y9",
        "outputId": "0be124c3-c0db-43d1-b7c6-b3c55aa1a3c7"
      },
      "execution_count": 6,
      "outputs": [
        {
          "output_type": "stream",
          "name": "stdout",
          "text": [
            "\n",
            "\n",
            "x\n",
            "\n",
            "xx\n",
            "\n",
            "xxx\n",
            "\n",
            "xxxx"
          ]
        }
      ]
    }
  ]
}