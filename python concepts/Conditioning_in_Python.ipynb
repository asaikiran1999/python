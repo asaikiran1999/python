{
  "nbformat": 4,
  "nbformat_minor": 0,
  "metadata": {
    "colab": {
      "name": "Conditioning_in_Python.ipynb",
      "provenance": []
    },
    "kernelspec": {
      "name": "python3",
      "display_name": "Python 3"
    },
    "language_info": {
      "name": "python"
    }
  },
  "cells": [
    {
      "cell_type": "markdown",
      "source": [
        "#**CONDITIONING IN PYTHON**"
      ],
      "metadata": {
        "id": "kku9lSJfhmsV"
      }
    },
    {
      "cell_type": "markdown",
      "source": [
        "**1.if condition** "
      ],
      "metadata": {
        "id": "C4CYtj6Phvgw"
      }
    },
    {
      "cell_type": "code",
      "execution_count": 1,
      "metadata": {
        "colab": {
          "base_uri": "https://localhost:8080/"
        },
        "id": "1e82mZx2heg-",
        "outputId": "16d5eaee-6469-4d27-fb39-3b1d52b18a90"
      },
      "outputs": [
        {
          "output_type": "stream",
          "name": "stdout",
          "text": [
            "Enter a number : -5\n",
            "-5  is negative number\n"
          ]
        }
      ],
      "source": [
        "a= int(input(\"Enter a number : \"))\n",
        "if a>=0 :\n",
        "  print(a,' is positive number')\n",
        "if a<0 :\n",
        "  print(a,' is negative number') "
      ]
    },
    {
      "cell_type": "markdown",
      "source": [
        "**2.else condition**"
      ],
      "metadata": {
        "id": "68Z0uAzGifiA"
      }
    },
    {
      "cell_type": "code",
      "source": [
        "a= int(input(\"Enter a number : \"))\n",
        "if a>=0 :\n",
        "  print(a,' is positive number')\n",
        "else:\n",
        "  print(a,' is negative number')"
      ],
      "metadata": {
        "colab": {
          "base_uri": "https://localhost:8080/"
        },
        "id": "kJDI8pasiZ6a",
        "outputId": "7b7b6124-390b-4362-ed65-0f2f5931e272"
      },
      "execution_count": 2,
      "outputs": [
        {
          "output_type": "stream",
          "name": "stdout",
          "text": [
            "Enter a number : 2\n",
            "2  is positive number\n"
          ]
        }
      ]
    },
    {
      "cell_type": "markdown",
      "source": [
        "**3.elif condition**"
      ],
      "metadata": {
        "id": "5aWggPvWiudy"
      }
    },
    {
      "cell_type": "code",
      "source": [
        "a= int(input(\"Enter a number : \"))\n",
        "if a>0 :\n",
        "  print(a,' is positive number')\n",
        "elif a<0:\n",
        "  print(a,' is negative number')\n",
        "else:\n",
        "  print(a,' is zero')"
      ],
      "metadata": {
        "colab": {
          "base_uri": "https://localhost:8080/"
        },
        "id": "2hTF4gMlipNP",
        "outputId": "5485e410-5251-4b82-cb2f-23566c3c93a3"
      },
      "execution_count": 3,
      "outputs": [
        {
          "output_type": "stream",
          "name": "stdout",
          "text": [
            "Enter a number : 0\n",
            "0  is zero\n"
          ]
        }
      ]
    },
    {
      "cell_type": "markdown",
      "source": [
        "**4.nested if statements**"
      ],
      "metadata": {
        "id": "AsM09w_2j2aL"
      }
    },
    {
      "cell_type": "code",
      "source": [
        "x= int(input('enter the number : '))\n",
        "if(x%2 == 0):\n",
        "  print('x is even')\n",
        "  if(x==10):\n",
        "    print('x is 10')\n",
        "  elif x==20:\n",
        "    print('x is 20')\n",
        "  else:\n",
        "    print('x is not 10')\n",
        "else:\n",
        "  print('x is odd')    "
      ],
      "metadata": {
        "colab": {
          "base_uri": "https://localhost:8080/"
        },
        "id": "PQlwB1k9jc2x",
        "outputId": "87704494-ad58-461c-a087-6d0de2c48aad"
      },
      "execution_count": 7,
      "outputs": [
        {
          "output_type": "stream",
          "name": "stdout",
          "text": [
            "enter the number : 20\n",
            "x is even\n",
            "x is 20\n"
          ]
        }
      ]
    },
    {
      "cell_type": "code",
      "source": [
        ""
      ],
      "metadata": {
        "id": "g-D87hA3oE3O"
      },
      "execution_count": null,
      "outputs": []
    }
  ]
}