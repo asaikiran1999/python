{
  "nbformat": 4,
  "nbformat_minor": 0,
  "metadata": {
    "colab": {
      "name": "strings_assignment_solution.ipynb",
      "provenance": []
    },
    "kernelspec": {
      "name": "python3",
      "display_name": "Python 3"
    },
    "language_info": {
      "name": "python"
    }
  },
  "cells": [
    {
      "cell_type": "markdown",
      "source": [
        "**1.Take a  string as an input from user and concatinate last letters of that strring and print the concatinated string.**"
      ],
      "metadata": {
        "id": "jkvL4wB-JbYY"
      }
    },
    {
      "cell_type": "code",
      "execution_count": 1,
      "metadata": {
        "colab": {
          "base_uri": "https://localhost:8080/"
        },
        "id": "7yBRM93WJYIk",
        "outputId": "27d2a869-8f53-40ed-9e7d-42d35393df55"
      },
      "outputs": [
        {
          "output_type": "stream",
          "name": "stdout",
          "text": [
            "string\n",
            "sg\n"
          ]
        }
      ],
      "source": [
        "x=input()\n",
        "print(x[0]+x[-1])"
      ]
    },
    {
      "cell_type": "markdown",
      "source": [
        "**2.Print first two letters of a string**"
      ],
      "metadata": {
        "id": "sAo6D1DPKNpO"
      }
    },
    {
      "cell_type": "code",
      "source": [
        "x = \"string\"\n",
        "print(x[:2])"
      ],
      "metadata": {
        "colab": {
          "base_uri": "https://localhost:8080/"
        },
        "id": "fnupwwa2KH53",
        "outputId": "01675cc6-de26-4da3-aebf-a401088aacf8"
      },
      "execution_count": 2,
      "outputs": [
        {
          "output_type": "stream",
          "name": "stdout",
          "text": [
            "st\n"
          ]
        }
      ]
    },
    {
      "cell_type": "markdown",
      "source": [
        "**3.Print reverse of string using slicing concept**"
      ],
      "metadata": {
        "id": "R3JJFxmHKdYO"
      }
    },
    {
      "cell_type": "code",
      "source": [
        "x ='string'\n",
        "print(x[::-1])"
      ],
      "metadata": {
        "colab": {
          "base_uri": "https://localhost:8080/"
        },
        "id": "-owEmeI3KbSW",
        "outputId": "e62d3bea-2205-472f-b646-0974100fea7d"
      },
      "execution_count": 3,
      "outputs": [
        {
          "output_type": "stream",
          "name": "stdout",
          "text": [
            "gnirts\n"
          ]
        }
      ]
    },
    {
      "cell_type": "markdown",
      "source": [
        "**4.print a number as a string and count zeros in it.**"
      ],
      "metadata": {
        "id": "iQ-vsFR4KzY_"
      }
    },
    {
      "cell_type": "code",
      "source": [
        "x='937470000000000000000'\n",
        "print(x.count('0'))"
      ],
      "metadata": {
        "colab": {
          "base_uri": "https://localhost:8080/"
        },
        "id": "c9128sl2Ks6W",
        "outputId": "b1e17989-a725-4d32-f877-887c3e32f65c"
      },
      "execution_count": 4,
      "outputs": [
        {
          "output_type": "stream",
          "name": "stdout",
          "text": [
            "16\n"
          ]
        }
      ]
    },
    {
      "cell_type": "markdown",
      "source": [
        "**5.Consider a string \"Quick Learn python\" split it into list of words seperately and join them with substring '-' in between.**"
      ],
      "metadata": {
        "id": "biS-HrGiLJ3J"
      }
    },
    {
      "cell_type": "code",
      "source": [
        "x='Quick Learn python'\n",
        "l=x.split(\" \")\n",
        "s='-'.join(l)\n",
        "print(s)"
      ],
      "metadata": {
        "colab": {
          "base_uri": "https://localhost:8080/"
        },
        "id": "dhyrYP7cLFfN",
        "outputId": "76754b42-0d62-41a8-e5f3-7e3bdd8270e6"
      },
      "execution_count": 5,
      "outputs": [
        {
          "output_type": "stream",
          "name": "stdout",
          "text": [
            "Quick-Learn-python\n"
          ]
        }
      ]
    },
    {
      "cell_type": "code",
      "source": [
        ""
      ],
      "metadata": {
        "id": "phWtGa9-MCfX"
      },
      "execution_count": null,
      "outputs": []
    }
  ]
}