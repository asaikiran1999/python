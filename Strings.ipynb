{
  "nbformat": 4,
  "nbformat_minor": 0,
  "metadata": {
    "colab": {
      "name": "Strings.ipynb",
      "provenance": [],
      "authorship_tag": "ABX9TyNR45gvj818enKMRZakDjUZ",
      "include_colab_link": true
    },
    "kernelspec": {
      "name": "python3",
      "display_name": "Python 3"
    },
    "language_info": {
      "name": "python"
    }
  },
  "cells": [
    {
      "cell_type": "markdown",
      "metadata": {
        "id": "view-in-github",
        "colab_type": "text"
      },
      "source": [
        "<a href=\"https://colab.research.google.com/github/asaikiran1999/python/blob/main/Strings.ipynb\" target=\"_parent\"><img src=\"https://colab.research.google.com/assets/colab-badge.svg\" alt=\"Open In Colab\"/></a>"
      ]
    },
    {
      "cell_type": "markdown",
      "source": [
        "**STRINGS**"
      ],
      "metadata": {
        "id": "qcyabHjWqvTi"
      }
    },
    {
      "cell_type": "markdown",
      "source": [
        "1.Changing case in a string with method."
      ],
      "metadata": {
        "id": "0hrwQNt1q1AS"
      }
    },
    {
      "cell_type": "code",
      "execution_count": null,
      "metadata": {
        "colab": {
          "base_uri": "https://localhost:8080/"
        },
        "id": "N9O7Dr0MqnU2",
        "outputId": "7d2d2ed3-7d88-483a-be96-08c911ceae28"
      },
      "outputs": [
        {
          "output_type": "stream",
          "name": "stdout",
          "text": [
            "before appling anything name = Avasarala Saikiran\n",
            "after appling title name = Avasarala Saikiran\n",
            "after appling upper name = AVASARALA SAIKIRAN\n",
            "after appling lower name = avasarala saikiran\n"
          ]
        }
      ],
      "source": [
        "name = \"avasarala saiKiran\"\n",
        "print(\"before appling anything name =\",name.title())\n",
        "print(\"after appling title name =\",name.title())\n",
        "print(\"after appling upper name =\",name.upper())\n",
        "print(\"after appling lower name =\",name.lower())"
      ]
    },
    {
      "cell_type": "markdown",
      "source": [
        "2.Combining or concatenating string"
      ],
      "metadata": {
        "id": "x_cS1gGtsLkR"
      }
    },
    {
      "cell_type": "code",
      "source": [
        "first_name = 'Avasarala'\n",
        "last_name = \"Sai Kiran\"\n",
        "full_name= first_name + ' ' + last_name\n",
        "print(full_name)\n",
        "print(\"Hello,\"+full_name.title()+\"!\")"
      ],
      "metadata": {
        "colab": {
          "base_uri": "https://localhost:8080/"
        },
        "id": "X6rqEnYyryYw",
        "outputId": "edabd95f-442e-49ce-f3d9-ada578186543"
      },
      "execution_count": null,
      "outputs": [
        {
          "output_type": "stream",
          "name": "stdout",
          "text": [
            "Avasarala Sai Kiran\n",
            "Hello,Avasarala Sai Kiran!\n"
          ]
        }
      ]
    },
    {
      "cell_type": "markdown",
      "source": [
        "3.Adding whitespace to string with tabs or newlines"
      ],
      "metadata": {
        "id": "qeOu3zs1tYdQ"
      }
    },
    {
      "cell_type": "code",
      "source": [
        "print(\"python\")\n",
        "print(\"\\tpython\")\n",
        "print(\"languages:\\n1.python\\n2.java\")"
      ],
      "metadata": {
        "colab": {
          "base_uri": "https://localhost:8080/"
        },
        "id": "PWXBOxD1tT-h",
        "outputId": "961098e7-50cb-4f7e-c762-f3b4b0102f15"
      },
      "execution_count": null,
      "outputs": [
        {
          "output_type": "stream",
          "name": "stdout",
          "text": [
            "python\n",
            "\tpython\n",
            "languages:\n",
            "1.python\n",
            "2.java\n"
          ]
        }
      ]
    },
    {
      "cell_type": "markdown",
      "source": [
        "4.Stripping whitespace"
      ],
      "metadata": {
        "id": "DUHTENL0uH0n"
      }
    },
    {
      "cell_type": "code",
      "source": [
        "lang = ' python '\n",
        "print(\"right strip =\",lang.rstrip())\n",
        "print(\"left strip  =\",lang.lstrip())\n",
        "print(\"full strip  =\",lang.strip())"
      ],
      "metadata": {
        "colab": {
          "base_uri": "https://localhost:8080/"
        },
        "id": "4_q3L9GUt_9w",
        "outputId": "5c640574-c04e-407a-b8cd-55c08b0dbc77"
      },
      "execution_count": null,
      "outputs": [
        {
          "output_type": "stream",
          "name": "stdout",
          "text": [
            "right strip =  python\n",
            "left strip  = python \n",
            "full strip  = python\n"
          ]
        }
      ]
    },
    {
      "cell_type": "code",
      "source": [
        ""
      ],
      "metadata": {
        "id": "8jLAgdP5vyoW"
      },
      "execution_count": null,
      "outputs": []
    }
  ]
}