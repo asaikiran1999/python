{
  "nbformat": 4,
  "nbformat_minor": 0,
  "metadata": {
    "colab": {
      "provenance": []
    },
    "kernelspec": {
      "name": "python3",
      "display_name": "Python 3"
    },
    "language_info": {
      "name": "python"
    }
  },
  "cells": [
    {
      "cell_type": "markdown",
      "source": [
        "#Iterator"
      ],
      "metadata": {
        "id": "ejNgaPeSAX1P"
      }
    },
    {
      "cell_type": "markdown",
      "source": [
        "1.Generating iterators"
      ],
      "metadata": {
        "id": "TnfA3c-4AdIq"
      }
    },
    {
      "cell_type": "code",
      "execution_count": 1,
      "metadata": {
        "id": "wuhwTaUZAQAB"
      },
      "outputs": [],
      "source": [
        "list1 = [ 1,2,3,4]\n",
        "iterable = iter(list1)"
      ]
    },
    {
      "cell_type": "markdown",
      "source": [
        "2.calling the iterators"
      ],
      "metadata": {
        "id": "6a67y4exA9GD"
      }
    },
    {
      "cell_type": "code",
      "source": [
        "next(iterable)"
      ],
      "metadata": {
        "colab": {
          "base_uri": "https://localhost:8080/"
        },
        "id": "FJMzeSzNBBZD",
        "outputId": "8d23521d-829b-4e05-ad1b-ad673cb83cee"
      },
      "execution_count": 2,
      "outputs": [
        {
          "output_type": "execute_result",
          "data": {
            "text/plain": [
              "1"
            ]
          },
          "metadata": {},
          "execution_count": 2
        }
      ]
    },
    {
      "cell_type": "markdown",
      "source": [
        "#Decorators"
      ],
      "metadata": {
        "id": "VYKOXbPSBP0_"
      }
    },
    {
      "cell_type": "markdown",
      "source": [
        "1.creating decorators"
      ],
      "metadata": {
        "id": "7RV7zjyVBUTI"
      }
    },
    {
      "cell_type": "code",
      "source": [
        "def welcome(func):\n",
        "  def inner_welcome():\n",
        "    print(\"hello world\")\n",
        "    func()\n",
        "  return inner_welcome()"
      ],
      "metadata": {
        "id": "0BI8VB5CMHg2"
      },
      "execution_count": 5,
      "outputs": []
    },
    {
      "cell_type": "code",
      "source": [
        "def kiran():\n",
        "  print(\"this is kiran\")"
      ],
      "metadata": {
        "id": "O28BUe_GMpOX"
      },
      "execution_count": 6,
      "outputs": []
    },
    {
      "cell_type": "code",
      "source": [
        "welcome(kiran)"
      ],
      "metadata": {
        "colab": {
          "base_uri": "https://localhost:8080/"
        },
        "id": "6LtwfI01M4Vg",
        "outputId": "3f5d464e-24ad-46d6-8299-1562fbe5e9aa"
      },
      "execution_count": 7,
      "outputs": [
        {
          "output_type": "stream",
          "name": "stdout",
          "text": [
            "hello world\n",
            "this is kiran\n"
          ]
        }
      ]
    },
    {
      "cell_type": "code",
      "source": [
        "@welcome\n",
        "def kiran():\n",
        "  print('this is kiran')"
      ],
      "metadata": {
        "colab": {
          "base_uri": "https://localhost:8080/"
        },
        "id": "l2RR1V_gM-_Z",
        "outputId": "a006cff2-7cba-40ea-f250-bf0995b7de2a"
      },
      "execution_count": 8,
      "outputs": [
        {
          "output_type": "stream",
          "name": "stdout",
          "text": [
            "hello world\n",
            "this is kiran\n"
          ]
        }
      ]
    },
    {
      "cell_type": "code",
      "source": [
        " "
      ],
      "metadata": {
        "id": "Jx5eKeFINzH6"
      },
      "execution_count": null,
      "outputs": []
    }
  ]
}